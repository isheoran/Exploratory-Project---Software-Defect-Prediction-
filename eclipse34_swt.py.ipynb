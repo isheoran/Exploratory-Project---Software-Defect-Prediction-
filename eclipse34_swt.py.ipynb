{
 "cells": [
  {
   "cell_type": "code",
   "execution_count": 33,
   "id": "160a8c9f",
   "metadata": {},
   "outputs": [],
   "source": [
    "from scipy.io import arff\n",
    "import pandas as pd\n",
    "import numpy as np\n",
    "import math\n",
    "\n",
    "from numpy import unique\n",
    "from numpy import where\n",
    "from matplotlib import pyplot\n",
    "\n",
    "data = arff.loadarff('./DefectData/inst/extdata/kim/eclipse34_swt.arff') \n",
    "df = pd.DataFrame(data[0])"
   ]
  },
  {
   "cell_type": "code",
   "execution_count": 34,
   "id": "e1d25182",
   "metadata": {},
   "outputs": [
    {
     "data": {
      "text/html": [
       "<div>\n",
       "<style scoped>\n",
       "    .dataframe tbody tr th:only-of-type {\n",
       "        vertical-align: middle;\n",
       "    }\n",
       "\n",
       "    .dataframe tbody tr th {\n",
       "        vertical-align: top;\n",
       "    }\n",
       "\n",
       "    .dataframe thead th {\n",
       "        text-align: right;\n",
       "    }\n",
       "</style>\n",
       "<table border=\"1\" class=\"dataframe\">\n",
       "  <thead>\n",
       "    <tr style=\"text-align: right;\">\n",
       "      <th></th>\n",
       "      <th>LOC</th>\n",
       "      <th>AverageComplexity</th>\n",
       "      <th>MaximumComplexity</th>\n",
       "      <th>LCOM</th>\n",
       "      <th>DIT</th>\n",
       "      <th>IFANIN</th>\n",
       "      <th>CBO</th>\n",
       "      <th>NOC</th>\n",
       "      <th>RFC</th>\n",
       "      <th>NIM</th>\n",
       "      <th>NIV</th>\n",
       "      <th>NCM</th>\n",
       "      <th>NCV</th>\n",
       "      <th>WMC</th>\n",
       "      <th>change_times</th>\n",
       "      <th>plus</th>\n",
       "      <th>minus</th>\n",
       "      <th>isDefective</th>\n",
       "    </tr>\n",
       "  </thead>\n",
       "  <tbody>\n",
       "    <tr>\n",
       "      <th>0</th>\n",
       "      <td>241.0</td>\n",
       "      <td>1.0</td>\n",
       "      <td>3.0</td>\n",
       "      <td>0.0</td>\n",
       "      <td>1.0</td>\n",
       "      <td>1.0</td>\n",
       "      <td>22.0</td>\n",
       "      <td>0.0</td>\n",
       "      <td>24.0</td>\n",
       "      <td>0.0</td>\n",
       "      <td>0.0</td>\n",
       "      <td>24.0</td>\n",
       "      <td>0.0</td>\n",
       "      <td>24.0</td>\n",
       "      <td>4.0</td>\n",
       "      <td>5.0</td>\n",
       "      <td>40.0</td>\n",
       "      <td>b'TRUE'</td>\n",
       "    </tr>\n",
       "    <tr>\n",
       "      <th>1</th>\n",
       "      <td>209.0</td>\n",
       "      <td>1.0</td>\n",
       "      <td>3.0</td>\n",
       "      <td>0.0</td>\n",
       "      <td>1.0</td>\n",
       "      <td>1.0</td>\n",
       "      <td>21.0</td>\n",
       "      <td>0.0</td>\n",
       "      <td>23.0</td>\n",
       "      <td>0.0</td>\n",
       "      <td>0.0</td>\n",
       "      <td>23.0</td>\n",
       "      <td>0.0</td>\n",
       "      <td>23.0</td>\n",
       "      <td>2.0</td>\n",
       "      <td>3.0</td>\n",
       "      <td>50.0</td>\n",
       "      <td>b'TRUE'</td>\n",
       "    </tr>\n",
       "    <tr>\n",
       "      <th>2</th>\n",
       "      <td>172.0</td>\n",
       "      <td>2.0</td>\n",
       "      <td>7.0</td>\n",
       "      <td>93.0</td>\n",
       "      <td>1.0</td>\n",
       "      <td>1.0</td>\n",
       "      <td>39.0</td>\n",
       "      <td>0.0</td>\n",
       "      <td>16.0</td>\n",
       "      <td>0.0</td>\n",
       "      <td>0.0</td>\n",
       "      <td>16.0</td>\n",
       "      <td>1.0</td>\n",
       "      <td>16.0</td>\n",
       "      <td>25.0</td>\n",
       "      <td>281.0</td>\n",
       "      <td>564.0</td>\n",
       "      <td>b'TRUE'</td>\n",
       "    </tr>\n",
       "    <tr>\n",
       "      <th>3</th>\n",
       "      <td>117.0</td>\n",
       "      <td>1.0</td>\n",
       "      <td>1.0</td>\n",
       "      <td>71.0</td>\n",
       "      <td>1.0</td>\n",
       "      <td>1.0</td>\n",
       "      <td>8.0</td>\n",
       "      <td>0.0</td>\n",
       "      <td>7.0</td>\n",
       "      <td>7.0</td>\n",
       "      <td>4.0</td>\n",
       "      <td>0.0</td>\n",
       "      <td>0.0</td>\n",
       "      <td>7.0</td>\n",
       "      <td>7.0</td>\n",
       "      <td>25.0</td>\n",
       "      <td>92.0</td>\n",
       "      <td>b'TRUE'</td>\n",
       "    </tr>\n",
       "    <tr>\n",
       "      <th>4</th>\n",
       "      <td>70.0</td>\n",
       "      <td>1.0</td>\n",
       "      <td>3.0</td>\n",
       "      <td>87.0</td>\n",
       "      <td>1.0</td>\n",
       "      <td>1.0</td>\n",
       "      <td>5.0</td>\n",
       "      <td>0.0</td>\n",
       "      <td>8.0</td>\n",
       "      <td>1.0</td>\n",
       "      <td>0.0</td>\n",
       "      <td>7.0</td>\n",
       "      <td>1.0</td>\n",
       "      <td>8.0</td>\n",
       "      <td>7.0</td>\n",
       "      <td>164.0</td>\n",
       "      <td>145.0</td>\n",
       "      <td>b'TRUE'</td>\n",
       "    </tr>\n",
       "  </tbody>\n",
       "</table>\n",
       "</div>"
      ],
      "text/plain": [
       "     LOC  AverageComplexity  MaximumComplexity  LCOM  DIT  IFANIN   CBO  NOC  \\\n",
       "0  241.0                1.0                3.0   0.0  1.0     1.0  22.0  0.0   \n",
       "1  209.0                1.0                3.0   0.0  1.0     1.0  21.0  0.0   \n",
       "2  172.0                2.0                7.0  93.0  1.0     1.0  39.0  0.0   \n",
       "3  117.0                1.0                1.0  71.0  1.0     1.0   8.0  0.0   \n",
       "4   70.0                1.0                3.0  87.0  1.0     1.0   5.0  0.0   \n",
       "\n",
       "    RFC  NIM  NIV   NCM  NCV   WMC  change_times   plus  minus isDefective  \n",
       "0  24.0  0.0  0.0  24.0  0.0  24.0           4.0    5.0   40.0     b'TRUE'  \n",
       "1  23.0  0.0  0.0  23.0  0.0  23.0           2.0    3.0   50.0     b'TRUE'  \n",
       "2  16.0  0.0  0.0  16.0  1.0  16.0          25.0  281.0  564.0     b'TRUE'  \n",
       "3   7.0  7.0  4.0   0.0  0.0   7.0           7.0   25.0   92.0     b'TRUE'  \n",
       "4   8.0  1.0  0.0   7.0  1.0   8.0           7.0  164.0  145.0     b'TRUE'  "
      ]
     },
     "execution_count": 34,
     "metadata": {},
     "output_type": "execute_result"
    }
   ],
   "source": [
    "df.head()"
   ]
  },
  {
   "cell_type": "code",
   "execution_count": 35,
   "id": "539742dc",
   "metadata": {},
   "outputs": [
    {
     "data": {
      "text/plain": [
       "(1485, 18)"
      ]
     },
     "execution_count": 35,
     "metadata": {},
     "output_type": "execute_result"
    }
   ],
   "source": [
    "df.shape"
   ]
  },
  {
   "cell_type": "code",
   "execution_count": 36,
   "id": "ce873902",
   "metadata": {},
   "outputs": [
    {
     "name": "stdout",
     "output_type": "stream",
     "text": [
      "653\n",
      "832\n"
     ]
    }
   ],
   "source": [
    "buggy = b'TRUE'\n",
    "clean = b'FALSE'\n",
    "\n",
    "df_buggy = df[df.isDefective == buggy]\n",
    "df_clean = df[df.isDefective == clean]\n",
    "\n",
    "print(len(df_buggy))\n",
    "print(len(df_clean))"
   ]
  },
  {
   "cell_type": "code",
   "execution_count": 37,
   "id": "8c154a3c",
   "metadata": {},
   "outputs": [
    {
     "data": {
      "text/html": [
       "<div>\n",
       "<style scoped>\n",
       "    .dataframe tbody tr th:only-of-type {\n",
       "        vertical-align: middle;\n",
       "    }\n",
       "\n",
       "    .dataframe tbody tr th {\n",
       "        vertical-align: top;\n",
       "    }\n",
       "\n",
       "    .dataframe thead th {\n",
       "        text-align: right;\n",
       "    }\n",
       "</style>\n",
       "<table border=\"1\" class=\"dataframe\">\n",
       "  <thead>\n",
       "    <tr style=\"text-align: right;\">\n",
       "      <th></th>\n",
       "      <th>LOC</th>\n",
       "      <th>AverageComplexity</th>\n",
       "      <th>MaximumComplexity</th>\n",
       "      <th>LCOM</th>\n",
       "      <th>DIT</th>\n",
       "      <th>IFANIN</th>\n",
       "      <th>CBO</th>\n",
       "      <th>NOC</th>\n",
       "      <th>RFC</th>\n",
       "      <th>NIM</th>\n",
       "      <th>NIV</th>\n",
       "      <th>NCM</th>\n",
       "      <th>NCV</th>\n",
       "      <th>WMC</th>\n",
       "      <th>change_times</th>\n",
       "      <th>plus</th>\n",
       "      <th>minus</th>\n",
       "    </tr>\n",
       "  </thead>\n",
       "  <tbody>\n",
       "    <tr>\n",
       "      <th>0</th>\n",
       "      <td>241.0</td>\n",
       "      <td>1.0</td>\n",
       "      <td>3.0</td>\n",
       "      <td>0.0</td>\n",
       "      <td>1.0</td>\n",
       "      <td>1.0</td>\n",
       "      <td>22.0</td>\n",
       "      <td>0.0</td>\n",
       "      <td>24.0</td>\n",
       "      <td>0.0</td>\n",
       "      <td>0.0</td>\n",
       "      <td>24.0</td>\n",
       "      <td>0.0</td>\n",
       "      <td>24.0</td>\n",
       "      <td>4.0</td>\n",
       "      <td>5.0</td>\n",
       "      <td>40.0</td>\n",
       "    </tr>\n",
       "    <tr>\n",
       "      <th>1</th>\n",
       "      <td>209.0</td>\n",
       "      <td>1.0</td>\n",
       "      <td>3.0</td>\n",
       "      <td>0.0</td>\n",
       "      <td>1.0</td>\n",
       "      <td>1.0</td>\n",
       "      <td>21.0</td>\n",
       "      <td>0.0</td>\n",
       "      <td>23.0</td>\n",
       "      <td>0.0</td>\n",
       "      <td>0.0</td>\n",
       "      <td>23.0</td>\n",
       "      <td>0.0</td>\n",
       "      <td>23.0</td>\n",
       "      <td>2.0</td>\n",
       "      <td>3.0</td>\n",
       "      <td>50.0</td>\n",
       "    </tr>\n",
       "    <tr>\n",
       "      <th>2</th>\n",
       "      <td>172.0</td>\n",
       "      <td>2.0</td>\n",
       "      <td>7.0</td>\n",
       "      <td>93.0</td>\n",
       "      <td>1.0</td>\n",
       "      <td>1.0</td>\n",
       "      <td>39.0</td>\n",
       "      <td>0.0</td>\n",
       "      <td>16.0</td>\n",
       "      <td>0.0</td>\n",
       "      <td>0.0</td>\n",
       "      <td>16.0</td>\n",
       "      <td>1.0</td>\n",
       "      <td>16.0</td>\n",
       "      <td>25.0</td>\n",
       "      <td>281.0</td>\n",
       "      <td>564.0</td>\n",
       "    </tr>\n",
       "    <tr>\n",
       "      <th>3</th>\n",
       "      <td>117.0</td>\n",
       "      <td>1.0</td>\n",
       "      <td>1.0</td>\n",
       "      <td>71.0</td>\n",
       "      <td>1.0</td>\n",
       "      <td>1.0</td>\n",
       "      <td>8.0</td>\n",
       "      <td>0.0</td>\n",
       "      <td>7.0</td>\n",
       "      <td>7.0</td>\n",
       "      <td>4.0</td>\n",
       "      <td>0.0</td>\n",
       "      <td>0.0</td>\n",
       "      <td>7.0</td>\n",
       "      <td>7.0</td>\n",
       "      <td>25.0</td>\n",
       "      <td>92.0</td>\n",
       "    </tr>\n",
       "    <tr>\n",
       "      <th>4</th>\n",
       "      <td>70.0</td>\n",
       "      <td>1.0</td>\n",
       "      <td>3.0</td>\n",
       "      <td>87.0</td>\n",
       "      <td>1.0</td>\n",
       "      <td>1.0</td>\n",
       "      <td>5.0</td>\n",
       "      <td>0.0</td>\n",
       "      <td>8.0</td>\n",
       "      <td>1.0</td>\n",
       "      <td>0.0</td>\n",
       "      <td>7.0</td>\n",
       "      <td>1.0</td>\n",
       "      <td>8.0</td>\n",
       "      <td>7.0</td>\n",
       "      <td>164.0</td>\n",
       "      <td>145.0</td>\n",
       "    </tr>\n",
       "  </tbody>\n",
       "</table>\n",
       "</div>"
      ],
      "text/plain": [
       "     LOC  AverageComplexity  MaximumComplexity  LCOM  DIT  IFANIN   CBO  NOC  \\\n",
       "0  241.0                1.0                3.0   0.0  1.0     1.0  22.0  0.0   \n",
       "1  209.0                1.0                3.0   0.0  1.0     1.0  21.0  0.0   \n",
       "2  172.0                2.0                7.0  93.0  1.0     1.0  39.0  0.0   \n",
       "3  117.0                1.0                1.0  71.0  1.0     1.0   8.0  0.0   \n",
       "4   70.0                1.0                3.0  87.0  1.0     1.0   5.0  0.0   \n",
       "\n",
       "    RFC  NIM  NIV   NCM  NCV   WMC  change_times   plus  minus  \n",
       "0  24.0  0.0  0.0  24.0  0.0  24.0           4.0    5.0   40.0  \n",
       "1  23.0  0.0  0.0  23.0  0.0  23.0           2.0    3.0   50.0  \n",
       "2  16.0  0.0  0.0  16.0  1.0  16.0          25.0  281.0  564.0  \n",
       "3   7.0  7.0  4.0   0.0  0.0   7.0           7.0   25.0   92.0  \n",
       "4   8.0  1.0  0.0   7.0  1.0   8.0           7.0  164.0  145.0  "
      ]
     },
     "execution_count": 37,
     "metadata": {},
     "output_type": "execute_result"
    }
   ],
   "source": [
    "x = df.drop(['isDefective'],axis = 'columns')\n",
    "x.head()"
   ]
  },
  {
   "cell_type": "code",
   "execution_count": 38,
   "id": "a1cb4f2a",
   "metadata": {},
   "outputs": [
    {
     "data": {
      "text/plain": [
       "(1485, 17)"
      ]
     },
     "execution_count": 38,
     "metadata": {},
     "output_type": "execute_result"
    }
   ],
   "source": [
    "x.shape"
   ]
  },
  {
   "cell_type": "code",
   "execution_count": 39,
   "id": "6e2ec83b",
   "metadata": {},
   "outputs": [],
   "source": [
    "from sklearn.preprocessing import MinMaxScaler\n",
    "\n",
    "scalar = MinMaxScaler()\n",
    "scalar.fit(x)\n",
    "x = scalar.transform(x)"
   ]
  },
  {
   "cell_type": "code",
   "execution_count": 40,
   "id": "8b6de1dd",
   "metadata": {},
   "outputs": [
    {
     "data": {
      "text/html": [
       "<div>\n",
       "<style scoped>\n",
       "    .dataframe tbody tr th:only-of-type {\n",
       "        vertical-align: middle;\n",
       "    }\n",
       "\n",
       "    .dataframe tbody tr th {\n",
       "        vertical-align: top;\n",
       "    }\n",
       "\n",
       "    .dataframe thead th {\n",
       "        text-align: right;\n",
       "    }\n",
       "</style>\n",
       "<table border=\"1\" class=\"dataframe\">\n",
       "  <thead>\n",
       "    <tr style=\"text-align: right;\">\n",
       "      <th></th>\n",
       "      <th>0</th>\n",
       "      <th>1</th>\n",
       "      <th>2</th>\n",
       "      <th>3</th>\n",
       "      <th>4</th>\n",
       "      <th>5</th>\n",
       "      <th>6</th>\n",
       "      <th>7</th>\n",
       "      <th>8</th>\n",
       "      <th>9</th>\n",
       "      <th>10</th>\n",
       "      <th>11</th>\n",
       "      <th>12</th>\n",
       "      <th>13</th>\n",
       "      <th>14</th>\n",
       "      <th>15</th>\n",
       "      <th>16</th>\n",
       "    </tr>\n",
       "  </thead>\n",
       "  <tbody>\n",
       "    <tr>\n",
       "      <th>0</th>\n",
       "      <td>0.015640</td>\n",
       "      <td>0.038462</td>\n",
       "      <td>0.009524</td>\n",
       "      <td>0.00</td>\n",
       "      <td>0.020408</td>\n",
       "      <td>0.2</td>\n",
       "      <td>0.064140</td>\n",
       "      <td>0.0</td>\n",
       "      <td>0.005654</td>\n",
       "      <td>0.000000</td>\n",
       "      <td>0.000000</td>\n",
       "      <td>0.010063</td>\n",
       "      <td>0.000000</td>\n",
       "      <td>0.010063</td>\n",
       "      <td>0.001731</td>\n",
       "      <td>0.000099</td>\n",
       "      <td>0.000675</td>\n",
       "    </tr>\n",
       "    <tr>\n",
       "      <th>1</th>\n",
       "      <td>0.013546</td>\n",
       "      <td>0.038462</td>\n",
       "      <td>0.009524</td>\n",
       "      <td>0.00</td>\n",
       "      <td>0.020408</td>\n",
       "      <td>0.2</td>\n",
       "      <td>0.061224</td>\n",
       "      <td>0.0</td>\n",
       "      <td>0.005418</td>\n",
       "      <td>0.000000</td>\n",
       "      <td>0.000000</td>\n",
       "      <td>0.009644</td>\n",
       "      <td>0.000000</td>\n",
       "      <td>0.009644</td>\n",
       "      <td>0.000577</td>\n",
       "      <td>0.000059</td>\n",
       "      <td>0.000843</td>\n",
       "    </tr>\n",
       "    <tr>\n",
       "      <th>2</th>\n",
       "      <td>0.011125</td>\n",
       "      <td>0.076923</td>\n",
       "      <td>0.022222</td>\n",
       "      <td>0.93</td>\n",
       "      <td>0.020408</td>\n",
       "      <td>0.2</td>\n",
       "      <td>0.113703</td>\n",
       "      <td>0.0</td>\n",
       "      <td>0.003769</td>\n",
       "      <td>0.000000</td>\n",
       "      <td>0.000000</td>\n",
       "      <td>0.006709</td>\n",
       "      <td>0.000116</td>\n",
       "      <td>0.006709</td>\n",
       "      <td>0.013849</td>\n",
       "      <td>0.005556</td>\n",
       "      <td>0.009510</td>\n",
       "    </tr>\n",
       "    <tr>\n",
       "      <th>3</th>\n",
       "      <td>0.007526</td>\n",
       "      <td>0.038462</td>\n",
       "      <td>0.003175</td>\n",
       "      <td>0.71</td>\n",
       "      <td>0.020408</td>\n",
       "      <td>0.2</td>\n",
       "      <td>0.023324</td>\n",
       "      <td>0.0</td>\n",
       "      <td>0.001649</td>\n",
       "      <td>0.012367</td>\n",
       "      <td>0.007692</td>\n",
       "      <td>0.000000</td>\n",
       "      <td>0.000000</td>\n",
       "      <td>0.002935</td>\n",
       "      <td>0.003462</td>\n",
       "      <td>0.000494</td>\n",
       "      <td>0.001551</td>\n",
       "    </tr>\n",
       "    <tr>\n",
       "      <th>4</th>\n",
       "      <td>0.004450</td>\n",
       "      <td>0.038462</td>\n",
       "      <td>0.009524</td>\n",
       "      <td>0.87</td>\n",
       "      <td>0.020408</td>\n",
       "      <td>0.2</td>\n",
       "      <td>0.014577</td>\n",
       "      <td>0.0</td>\n",
       "      <td>0.001885</td>\n",
       "      <td>0.001767</td>\n",
       "      <td>0.000000</td>\n",
       "      <td>0.002935</td>\n",
       "      <td>0.000116</td>\n",
       "      <td>0.003354</td>\n",
       "      <td>0.003462</td>\n",
       "      <td>0.003243</td>\n",
       "      <td>0.002445</td>\n",
       "    </tr>\n",
       "  </tbody>\n",
       "</table>\n",
       "</div>"
      ],
      "text/plain": [
       "         0         1         2     3         4    5         6    7         8   \\\n",
       "0  0.015640  0.038462  0.009524  0.00  0.020408  0.2  0.064140  0.0  0.005654   \n",
       "1  0.013546  0.038462  0.009524  0.00  0.020408  0.2  0.061224  0.0  0.005418   \n",
       "2  0.011125  0.076923  0.022222  0.93  0.020408  0.2  0.113703  0.0  0.003769   \n",
       "3  0.007526  0.038462  0.003175  0.71  0.020408  0.2  0.023324  0.0  0.001649   \n",
       "4  0.004450  0.038462  0.009524  0.87  0.020408  0.2  0.014577  0.0  0.001885   \n",
       "\n",
       "         9         10        11        12        13        14        15  \\\n",
       "0  0.000000  0.000000  0.010063  0.000000  0.010063  0.001731  0.000099   \n",
       "1  0.000000  0.000000  0.009644  0.000000  0.009644  0.000577  0.000059   \n",
       "2  0.000000  0.000000  0.006709  0.000116  0.006709  0.013849  0.005556   \n",
       "3  0.012367  0.007692  0.000000  0.000000  0.002935  0.003462  0.000494   \n",
       "4  0.001767  0.000000  0.002935  0.000116  0.003354  0.003462  0.003243   \n",
       "\n",
       "         16  \n",
       "0  0.000675  \n",
       "1  0.000843  \n",
       "2  0.009510  \n",
       "3  0.001551  \n",
       "4  0.002445  "
      ]
     },
     "execution_count": 40,
     "metadata": {},
     "output_type": "execute_result"
    }
   ],
   "source": [
    "x = pd.DataFrame(x)\n",
    "x.head()"
   ]
  },
  {
   "cell_type": "code",
   "execution_count": 41,
   "id": "a569b4bc",
   "metadata": {},
   "outputs": [
    {
     "data": {
      "text/plain": [
       "array([0, 0, 1, 1, 1], dtype=int32)"
      ]
     },
     "execution_count": 41,
     "metadata": {},
     "output_type": "execute_result"
    }
   ],
   "source": [
    "from sklearn.cluster import KMeans\n",
    "\n",
    "kmeans_model = KMeans(n_clusters = 2)\n",
    "kmeans_model.fit(x)\n",
    "\n",
    "kmeans_prediction = kmeans_model.predict(x)\n",
    "x['cluster'] = kmeans_prediction\n",
    "\n",
    "kmeans_prediction[:5]"
   ]
  },
  {
   "cell_type": "code",
   "execution_count": 42,
   "id": "3d5d8697",
   "metadata": {},
   "outputs": [],
   "source": [
    "def ASFM(DataFrame):\n",
    "    SFM = 0\n",
    "    \n",
    "    x,y = DataFrame.shape\n",
    "    \n",
    "    for i in range(x):\n",
    "        for j in range(y-1):\n",
    "            SFM += DataFrame.iloc[i,j]\n",
    "    \n",
    "    return SFM/x"
   ]
  },
  {
   "cell_type": "code",
   "execution_count": 43,
   "id": "9acffdbe",
   "metadata": {},
   "outputs": [],
   "source": [
    "df0 = x[x.cluster==0]\n",
    "df1 = x[x.cluster==1]"
   ]
  },
  {
   "cell_type": "code",
   "execution_count": 44,
   "id": "04236c1e",
   "metadata": {},
   "outputs": [
    {
     "name": "stdout",
     "output_type": "stream",
     "text": [
      "ASFM0 : 0.37256051411904617\n",
      "ASFM1 : 1.8125463051474042\n"
     ]
    }
   ],
   "source": [
    "ASFM0 = ASFM(df0)\n",
    "ASFM1 = ASFM(df1)\n",
    "\n",
    "print(f\"ASFM0 : {ASFM0}\")\n",
    "print(f\"ASFM1 : {ASFM1}\")"
   ]
  },
  {
   "cell_type": "code",
   "execution_count": 47,
   "id": "19d7f355",
   "metadata": {},
   "outputs": [],
   "source": [
    "#ASFM1 value is greater than ASFM0, so label 1 will represent defected software and 0 represents non-defected \n",
    "#software\n",
    "\n",
    "\n",
    "\n",
    "TP = 0\n",
    "FN = 0\n",
    "TN = 0\n",
    "FP = 0\n",
    "\n",
    "n,m = df.shape\n",
    "\n",
    "for i in range(n):\n",
    "    \n",
    "    defect = df.iloc[i,m-1]\n",
    "    \n",
    "    if defect == buggy and kmeans_prediction[i]==1:\n",
    "        TP += 1\n",
    "    elif defect == buggy and kmeans_prediction[i]==1:\n",
    "        FN += 1\n",
    "    elif defect == clean and kmeans_prediction[i]==1:\n",
    "        TN += 1\n",
    "    else:\n",
    "        FP += 1\n",
    " "
   ]
  },
  {
   "cell_type": "code",
   "execution_count": 48,
   "id": "64c66940",
   "metadata": {},
   "outputs": [
    {
     "name": "stdout",
     "output_type": "stream",
     "text": [
      "MCC : -0.08625220789920625\n",
      "Accuracy : 0.4356902356902357\n",
      "precison : 0.41248817407757804\n",
      "Recall : 0.667687595712098\n",
      "F1-Score : 0.5099415204678363\n"
     ]
    }
   ],
   "source": [
    "#Matthew Correlation Coefficient\n",
    "\n",
    "MCC = (TP*TN-FP*FN)/math.sqrt((TP+FP)*(TP+FN)*(TN+FP)*(TN+FN))\n",
    "accuracy = (TP+TN)/len(df)\n",
    "precision = TP/(TP+FP)\n",
    "recall = TP/(TP+FN)\n",
    "#F1-Score\n",
    "F = 2*(precision*recall)/(precision+recall)\n",
    "\n",
    "print(f\"MCC : {MCC}\")\n",
    "print(f\"Accuracy : {accuracy}\")\n",
    "print(f\"precison : {precision}\")\n",
    "print(f\"Recall : {recall}\")\n",
    "print(f\"F1-Score : {F}\")"
   ]
  },
  {
   "cell_type": "code",
   "execution_count": 29,
   "id": "f447c0eb",
   "metadata": {},
   "outputs": [
    {
     "data": {
      "text/plain": [
       "array([0, 1, 0, 1, 1])"
      ]
     },
     "execution_count": 29,
     "metadata": {},
     "output_type": "execute_result"
    }
   ],
   "source": [
    "from sklearn.cluster import AgglomerativeClustering\n",
    "\n",
    "ag_model = AgglomerativeClustering(n_clusters = 2)\n",
    "\n",
    "x = x.drop(['cluster'],axis = 'columns')\n",
    "ag_model.fit(x)\n",
    "ag_prediction = ag_model.labels_\n",
    "x['cluster'] = ag_prediction\n",
    "\n",
    "ag_prediction[:5]"
   ]
  },
  {
   "cell_type": "code",
   "execution_count": 30,
   "id": "886d205b",
   "metadata": {},
   "outputs": [],
   "source": [
    "df0 = x[x.cluster==0]\n",
    "df1 = x[x.cluster==1]\n"
   ]
  },
  {
   "cell_type": "code",
   "execution_count": 31,
   "id": "373bad6b",
   "metadata": {},
   "outputs": [
    {
     "name": "stdout",
     "output_type": "stream",
     "text": [
      "ASFM0 : 2.0783028745446144\n",
      "ASFM1 : 0.7172064606421298\n"
     ]
    }
   ],
   "source": [
    "ASFM0 = ASFM(df0)\n",
    "ASFM1 = ASFM(df1)\n",
    "\n",
    "print(f\"ASFM0 : {ASFM0}\")\n",
    "print(f\"ASFM1 : {ASFM1}\")"
   ]
  },
  {
   "cell_type": "code",
   "execution_count": 40,
   "id": "724fb371",
   "metadata": {},
   "outputs": [],
   "source": [
    "#ASFM0 value is greater than ASFM1, so label 0 will represent defected software and 1 represents non-defected \n",
    "#software\n",
    "\n",
    "\n",
    "\n",
    "TP = 0\n",
    "FN = 0\n",
    "TN = 0\n",
    "FP = 0\n",
    "\n",
    "\n",
    "for i in range(1065):\n",
    "    \n",
    "    defect = df.iloc[i,18]\n",
    "    buggy = b'FALSE'\n",
    "    clean = b'TRUE'\n",
    "    \n",
    "    if defect == buggy and ag_prediction[i]==1:\n",
    "        TP += 1\n",
    "    elif defect == buggy and ag_prediction[i]==0:\n",
    "        FN += 1\n",
    "    elif defect == clean and ag_prediction[i]==0:\n",
    "        TN += 1\n",
    "    else:\n",
    "        FP += 1\n",
    "    "
   ]
  },
  {
   "cell_type": "code",
   "execution_count": 41,
   "id": "583e547c",
   "metadata": {},
   "outputs": [
    {
     "name": "stdout",
     "output_type": "stream",
     "text": [
      "MCC : 0.16484773614397677\n",
      "Accuracy : 0.5887323943661972\n",
      "precison : 0.8192982456140351\n",
      "Recall : 0.5822942643391521\n",
      "F1-Score : 0.6807580174927114\n"
     ]
    }
   ],
   "source": [
    "#Matthew Correlation Coefficient\n",
    "\n",
    "MCC = (TP*TN-FP*FN)/math.sqrt((TP+FP)*(TP+FN)*(TN+FP)*(TN+FN))\n",
    "accuracy = (TP+TN)/len(df)\n",
    "precision = TP/(TP+FP)\n",
    "recall = TP/(TP+FN)\n",
    "#F1-Score\n",
    "F = 2*(precision*recall)/(precision+recall)\n",
    "\n",
    "print(f\"MCC : {MCC}\")\n",
    "print(f\"Accuracy : {accuracy}\")\n",
    "print(f\"precison : {precision}\")\n",
    "print(f\"Recall : {recall}\")\n",
    "print(f\"F1-Score : {F}\")"
   ]
  },
  {
   "cell_type": "code",
   "execution_count": 42,
   "id": "4a51ac93",
   "metadata": {},
   "outputs": [
    {
     "data": {
      "text/plain": [
       "array([1, 1, 1, 0, 0])"
      ]
     },
     "execution_count": 42,
     "metadata": {},
     "output_type": "execute_result"
    }
   ],
   "source": [
    "from sklearn.mixture import GaussianMixture\n",
    "\n",
    "gm_model = GaussianMixture(n_components = 2)\n",
    "\n",
    "x = x.drop(['cluster'],axis = 'columns')\n",
    "gm_model.fit(x)\n",
    "gm_prediction = gm_model.predict(x)\n",
    "x['cluster'] = gm_prediction\n",
    "\n",
    "gm_prediction[:5]"
   ]
  },
  {
   "cell_type": "code",
   "execution_count": 43,
   "id": "f907efc8",
   "metadata": {},
   "outputs": [],
   "source": [
    "df0 = x[x.cluster==0]\n",
    "df1 = x[x.cluster==1]\n"
   ]
  },
  {
   "cell_type": "code",
   "execution_count": 44,
   "id": "196f9e9e",
   "metadata": {},
   "outputs": [
    {
     "name": "stdout",
     "output_type": "stream",
     "text": [
      "ASFM0 : 0.9611253729082898\n",
      "ASFM1 : 2.5411600420619593\n"
     ]
    }
   ],
   "source": [
    "ASFM0 = ASFM(df0)\n",
    "ASFM1 = ASFM(df1)\n",
    "\n",
    "print(f\"ASFM0 : {ASFM0}\")\n",
    "print(f\"ASFM1 : {ASFM1}\")"
   ]
  },
  {
   "cell_type": "code",
   "execution_count": 47,
   "id": "f989f593",
   "metadata": {},
   "outputs": [],
   "source": [
    "#ASFM1 value is greater than ASFM0, so label 1 will represent defected software and 0 represents non-defected \n",
    "#software\n",
    "\n",
    "\n",
    "\n",
    "TP = 0\n",
    "FN = 0\n",
    "TN = 0\n",
    "FP = 0\n",
    "\n",
    "\n",
    "for i in range(1065):\n",
    "    \n",
    "    defect = df.iloc[i,18]\n",
    "    buggy = b'FALSE'\n",
    "    clean = b'TRUE'\n",
    "    \n",
    "    if defect == buggy and gm_prediction[i]==0:\n",
    "        TP += 1\n",
    "    elif defect == buggy and gm_prediction[i]==1:\n",
    "        FN += 1\n",
    "    elif defect == clean and gm_prediction[i]==1:\n",
    "        TN += 1\n",
    "    else:\n",
    "        FN += 1\n",
    "  "
   ]
  },
  {
   "cell_type": "code",
   "execution_count": 49,
   "id": "cdc990cb",
   "metadata": {},
   "outputs": [
    {
     "name": "stdout",
     "output_type": "stream",
     "text": [
      "MCC : 0.436747201041129\n",
      "Accuracy : 0.7211267605633803\n",
      "precison : 1.0\n",
      "Recall : 0.6876971608832808\n",
      "F1-Score : 0.8149532710280374\n"
     ]
    }
   ],
   "source": [
    "#Matthew Correlation Coefficient\n",
    "\n",
    "MCC = (TP*TN-FP*FN)/math.sqrt((TP+FP)*(TP+FN)*(TN+FP)*(TN+FN))\n",
    "accuracy = (TP+TN)/len(df)\n",
    "precision = TP/(TP+FP)\n",
    "recall = TP/(TP+FN)\n",
    "#F1-Score\n",
    "F = 2*(precision*recall)/(precision+recall)\n",
    "\n",
    "print(f\"MCC : {MCC}\")\n",
    "print(f\"Accuracy : {accuracy}\")\n",
    "print(f\"precison : {precision}\")\n",
    "print(f\"Recall : {recall}\")\n",
    "print(f\"F1-Score : {F}\")"
   ]
  },
  {
   "cell_type": "code",
   "execution_count": 50,
   "id": "42581fca",
   "metadata": {},
   "outputs": [
    {
     "data": {
      "text/plain": [
       "array([0, 1, 0, 1, 1], dtype=int32)"
      ]
     },
     "execution_count": 50,
     "metadata": {},
     "output_type": "execute_result"
    }
   ],
   "source": [
    "from sklearn.cluster import SpectralClustering\n",
    "\n",
    "SC_model = SpectralClustering(n_clusters = 2)\n",
    "\n",
    "x = x.drop(['cluster'],axis = 'columns')\n",
    "SC_model.fit(x)\n",
    "\n",
    "SC_prediction = SC_model.labels_\n",
    "x['cluster'] = SC_prediction\n",
    "\n",
    "SC_prediction[:5]"
   ]
  },
  {
   "cell_type": "code",
   "execution_count": 51,
   "id": "e4824ed7",
   "metadata": {},
   "outputs": [],
   "source": [
    "df0 = x[x.cluster==0]\n",
    "df1 = x[x.cluster==1]\n"
   ]
  },
  {
   "cell_type": "code",
   "execution_count": 52,
   "id": "79fda0ef",
   "metadata": {},
   "outputs": [
    {
     "name": "stdout",
     "output_type": "stream",
     "text": [
      "ASFM0 : 2.304298588023053\n",
      "ASFM1 : 0.7916343160305618\n"
     ]
    }
   ],
   "source": [
    "ASFM0 = ASFM(df0)\n",
    "ASFM1 = ASFM(df1)\n",
    "\n",
    "print(f\"ASFM0 : {ASFM0}\")\n",
    "print(f\"ASFM1 : {ASFM1}\")"
   ]
  },
  {
   "cell_type": "code",
   "execution_count": 55,
   "id": "6107090e",
   "metadata": {},
   "outputs": [],
   "source": [
    "#ASFM0 value is greater than ASFM1, so label 0 will represent defected software and 1 represents non-defected \n",
    "#software\n",
    "\n",
    "\n",
    "\n",
    "TP = 0\n",
    "FN = 0\n",
    "TN = 0\n",
    "FP = 0\n",
    "\n",
    "\n",
    "for i in range(1065):\n",
    "    \n",
    "    defect = df.iloc[i,18]\n",
    "    buggy = b'FALSE'\n",
    "    clean = b'TRUE'\n",
    "    \n",
    "    if defect == buggy and SC_prediction[i]==1:\n",
    "        TP += 1\n",
    "    elif defect == buggy and SC_prediction[i]==0:\n",
    "        FN += 1\n",
    "    elif defect == clean and SC_prediction[i]==0:\n",
    "        TN += 1\n",
    "    else:\n",
    "        FP += 1\n",
    "  "
   ]
  },
  {
   "cell_type": "code",
   "execution_count": 56,
   "id": "2f933ee7",
   "metadata": {},
   "outputs": [
    {
     "name": "stdout",
     "output_type": "stream",
     "text": [
      "MCC : 0.1938026382846342\n",
      "Accuracy : 0.6469483568075117\n",
      "precison : 0.8169642857142857\n",
      "Recall : 0.6845386533665836\n",
      "F1-Score : 0.7449118046132971\n"
     ]
    }
   ],
   "source": [
    "#Matthew Correlation Coefficient\n",
    "\n",
    "MCC = (TP*TN-FP*FN)/math.sqrt((TP+FP)*(TP+FN)*(TN+FP)*(TN+FN))\n",
    "accuracy = (TP+TN)/len(df)\n",
    "precision = TP/(TP+FP)\n",
    "recall = TP/(TP+FN)\n",
    "#F1-Score\n",
    "F = 2*(precision*recall)/(precision+recall)\n",
    "\n",
    "print(f\"MCC : {MCC}\")\n",
    "print(f\"Accuracy : {accuracy}\")\n",
    "print(f\"precison : {precision}\")\n",
    "print(f\"Recall : {recall}\")\n",
    "print(f\"F1-Score : {F}\")"
   ]
  },
  {
   "cell_type": "code",
   "execution_count": 57,
   "id": "e80824cc",
   "metadata": {},
   "outputs": [
    {
     "data": {
      "text/plain": [
       "array([0, 1, 0, 1, 1], dtype=int32)"
      ]
     },
     "execution_count": 57,
     "metadata": {},
     "output_type": "execute_result"
    }
   ],
   "source": [
    "from sklearn.cluster import MiniBatchKMeans\n",
    "\n",
    "miniBatchKmeans_model = MiniBatchKMeans(n_clusters = 2)\n",
    "\n",
    "x = x.drop(['cluster'],axis = 'columns')\n",
    "miniBatchKmeans_model.fit(x)\n",
    "miniBatchKmeans_prediction = miniBatchKmeans_model.labels_\n",
    "x['cluster'] = miniBatchKmeans_prediction\n",
    "\n",
    "SC_prediction[:5]"
   ]
  },
  {
   "cell_type": "code",
   "execution_count": 58,
   "id": "df10a66b",
   "metadata": {},
   "outputs": [],
   "source": [
    "df0 = x[x.cluster==0]\n",
    "df1 = x[x.cluster==1]\n"
   ]
  },
  {
   "cell_type": "code",
   "execution_count": 59,
   "id": "70045a3b",
   "metadata": {},
   "outputs": [
    {
     "name": "stdout",
     "output_type": "stream",
     "text": [
      "ASFM0 : 2.2651560293907034\n",
      "ASFM1 : 0.7746001183272463\n"
     ]
    }
   ],
   "source": [
    "ASFM0 = ASFM(df0)\n",
    "ASFM1 = ASFM(df1)\n",
    "\n",
    "print(f\"ASFM0 : {ASFM0}\")\n",
    "print(f\"ASFM1 : {ASFM1}\")"
   ]
  },
  {
   "cell_type": "code",
   "execution_count": 64,
   "id": "53aa1b08",
   "metadata": {},
   "outputs": [],
   "source": [
    "#ASFM0 value is greater than ASFM1, so label 0 will represent defected software and 1 represents non-defected \n",
    "#software\n",
    "\n",
    "\n",
    "\n",
    "TP = 0\n",
    "FN = 0\n",
    "TN = 0\n",
    "FP = 0\n",
    "\n",
    "\n",
    "for i in range(1065):\n",
    "    \n",
    "    defect = df.iloc[i,18]\n",
    "    buggy = b'FALSE'\n",
    "    clean = b'TRUE'\n",
    "    \n",
    "    if defect == buggy and miniBatchKmeans_prediction[i]==1:\n",
    "        TP += 1\n",
    "    elif defect == buggy and miniBatchKmeans_prediction[i]==0:\n",
    "        FN += 1\n",
    "    elif defect == clean and miniBatchKmeans_prediction[i]==0:\n",
    "        TN += 1\n",
    "    else:\n",
    "        FP += 1\n",
    "  "
   ]
  },
  {
   "cell_type": "code",
   "execution_count": 65,
   "id": "8cbefc4c",
   "metadata": {},
   "outputs": [
    {
     "name": "stdout",
     "output_type": "stream",
     "text": [
      "MCC : 0.19458358662661607\n",
      "Accuracy : 0.6394366197183099\n",
      "precison : 0.8195718654434251\n",
      "Recall : 0.6683291770573566\n",
      "F1-Score : 0.7362637362637363\n"
     ]
    }
   ],
   "source": [
    "#Matthew Correlation Coefficient\n",
    "\n",
    "MCC = (TP*TN-FP*FN)/math.sqrt((TP+FP)*(TP+FN)*(TN+FP)*(TN+FN))\n",
    "accuracy = (TP+TN)/len(df)\n",
    "precision = TP/(TP+FP)\n",
    "recall = TP/(TP+FN)\n",
    "#F1-Score\n",
    "F = 2*(precision*recall)/(precision+recall)\n",
    "\n",
    "print(f\"MCC : {MCC}\")\n",
    "print(f\"Accuracy : {accuracy}\")\n",
    "print(f\"precison : {precision}\")\n",
    "print(f\"Recall : {recall}\")\n",
    "print(f\"F1-Score : {F}\")"
   ]
  },
  {
   "cell_type": "code",
   "execution_count": 66,
   "id": "cb24f2fa",
   "metadata": {},
   "outputs": [
    {
     "data": {
      "text/plain": [
       "array([0, 1, 0, 1, 1], dtype=int32)"
      ]
     },
     "execution_count": 66,
     "metadata": {},
     "output_type": "execute_result"
    }
   ],
   "source": [
    "from sklearn.cluster import Birch\n",
    "\n",
    "birch_model = Birch(threshold=0.01, n_clusters=2)\n",
    "\n",
    "x = x.drop(['cluster'],axis = 'columns')\n",
    "birch_model.fit(x)\n",
    "birch_prediction = birch_model.labels_\n",
    "x['cluster'] = birch_prediction\n",
    "\n",
    "SC_prediction[:5]"
   ]
  },
  {
   "cell_type": "code",
   "execution_count": 67,
   "id": "74cadcf7",
   "metadata": {},
   "outputs": [],
   "source": [
    "df0 = x[x.cluster==0]\n",
    "df1 = x[x.cluster==1]\n"
   ]
  },
  {
   "cell_type": "code",
   "execution_count": 68,
   "id": "33e155aa",
   "metadata": {},
   "outputs": [
    {
     "name": "stdout",
     "output_type": "stream",
     "text": [
      "ASFM0 : 0.8816631817845566\n",
      "ASFM1 : 2.5492093920355217\n"
     ]
    }
   ],
   "source": [
    "ASFM0 = ASFM(df0)\n",
    "ASFM1 = ASFM(df1)\n",
    "\n",
    "print(f\"ASFM0 : {ASFM0}\")\n",
    "print(f\"ASFM1 : {ASFM1}\")"
   ]
  },
  {
   "cell_type": "code",
   "execution_count": 69,
   "id": "9dd0e1c6",
   "metadata": {},
   "outputs": [],
   "source": [
    "#ASFM0 value is greater than ASFM1, so label 0 will represent defected software and 1 represents non-defected \n",
    "#software\n",
    "\n",
    "\n",
    "\n",
    "TP = 0\n",
    "FN = 0\n",
    "TN = 0\n",
    "FP = 0\n",
    "\n",
    "\n",
    "for i in range(1065):\n",
    "    \n",
    "    defect = df.iloc[i,18]\n",
    "    buggy = b'FALSE'\n",
    "    clean = b'TRUE'\n",
    "    \n",
    "    if defect == buggy and birch_prediction[i]==0:\n",
    "        TP += 1\n",
    "    elif defect == buggy and birch_prediction[i]==1:\n",
    "        FN += 1\n",
    "    elif defect == clean and birch_prediction[i]==1:\n",
    "        TN += 1\n",
    "    else:\n",
    "        FP += 1\n",
    "  "
   ]
  },
  {
   "cell_type": "code",
   "execution_count": 70,
   "id": "3ee1d69c",
   "metadata": {},
   "outputs": [
    {
     "name": "stdout",
     "output_type": "stream",
     "text": [
      "MCC : 0.24790531039079333\n",
      "Accuracy : 0.7070422535211267\n",
      "precison : 0.8198433420365535\n",
      "Recall : 0.7830423940149626\n",
      "F1-Score : 0.8010204081632653\n"
     ]
    }
   ],
   "source": [
    "#Matthew Correlation Coefficient\n",
    "\n",
    "MCC = (TP*TN-FP*FN)/math.sqrt((TP+FP)*(TP+FN)*(TN+FP)*(TN+FN))\n",
    "accuracy = (TP+TN)/len(df)\n",
    "precision = TP/(TP+FP)\n",
    "recall = TP/(TP+FN)\n",
    "#F1-Score\n",
    "F = 2*(precision*recall)/(precision+recall)\n",
    "\n",
    "print(f\"MCC : {MCC}\")\n",
    "print(f\"Accuracy : {accuracy}\")\n",
    "print(f\"precison : {precision}\")\n",
    "print(f\"Recall : {recall}\")\n",
    "print(f\"F1-Score : {F}\")"
   ]
  },
  {
   "cell_type": "code",
   "execution_count": null,
   "id": "43c6a18c",
   "metadata": {},
   "outputs": [],
   "source": []
  }
 ],
 "metadata": {
  "kernelspec": {
   "display_name": "Python 3 (ipykernel)",
   "language": "python",
   "name": "python3"
  },
  "language_info": {
   "codemirror_mode": {
    "name": "ipython",
    "version": 3
   },
   "file_extension": ".py",
   "mimetype": "text/x-python",
   "name": "python",
   "nbconvert_exporter": "python",
   "pygments_lexer": "ipython3",
   "version": "3.8.10"
  }
 },
 "nbformat": 4,
 "nbformat_minor": 5
}
