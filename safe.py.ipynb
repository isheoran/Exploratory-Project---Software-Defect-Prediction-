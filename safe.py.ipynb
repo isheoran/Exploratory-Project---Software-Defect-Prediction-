{
 "cells": [
  {
   "cell_type": "code",
   "execution_count": 1,
   "id": "160a8c9f",
   "metadata": {},
   "outputs": [],
   "source": [
    "from scipy.io import arff\n",
    "import pandas as pd\n",
    "import numpy as np\n",
    "import math\n",
    "\n",
    "from numpy import unique\n",
    "from numpy import where\n",
    "from matplotlib import pyplot\n",
    "\n",
    "data = arff.loadarff('./DefectData/inst/extdata/kim/Safe.arff') \n",
    "df = pd.DataFrame(data[0])    "
   ]
  },
  {
   "cell_type": "code",
   "execution_count": 2,
   "id": "e1d25182",
   "metadata": {},
   "outputs": [
    {
     "data": {
      "text/html": [
       "<div>\n",
       "<style scoped>\n",
       "    .dataframe tbody tr th:only-of-type {\n",
       "        vertical-align: middle;\n",
       "    }\n",
       "\n",
       "    .dataframe tbody tr th {\n",
       "        vertical-align: top;\n",
       "    }\n",
       "\n",
       "    .dataframe thead th {\n",
       "        text-align: right;\n",
       "    }\n",
       "</style>\n",
       "<table border=\"1\" class=\"dataframe\">\n",
       "  <thead>\n",
       "    <tr style=\"text-align: right;\">\n",
       "      <th></th>\n",
       "      <th>AvgCyclomatic</th>\n",
       "      <th>AvgCyclomaticModified</th>\n",
       "      <th>AvgCyclomaticStrict</th>\n",
       "      <th>AvgEssential</th>\n",
       "      <th>AvgLine</th>\n",
       "      <th>AvgLineBlank</th>\n",
       "      <th>AvgLineCode</th>\n",
       "      <th>AvgLineComment</th>\n",
       "      <th>CountLine</th>\n",
       "      <th>CountLineBlank</th>\n",
       "      <th>...</th>\n",
       "      <th>CountStmtExe</th>\n",
       "      <th>MaxCyclomatic</th>\n",
       "      <th>MaxCyclomaticModified</th>\n",
       "      <th>MaxCyclomaticStrict</th>\n",
       "      <th>RatioCommentToCode</th>\n",
       "      <th>SumCyclomatic</th>\n",
       "      <th>SumCyclomaticModified</th>\n",
       "      <th>SumCyclomaticStrict</th>\n",
       "      <th>SumEssential</th>\n",
       "      <th>isDefective</th>\n",
       "    </tr>\n",
       "  </thead>\n",
       "  <tbody>\n",
       "    <tr>\n",
       "      <th>0</th>\n",
       "      <td>6.0</td>\n",
       "      <td>6.0</td>\n",
       "      <td>6.0</td>\n",
       "      <td>1.0</td>\n",
       "      <td>24.0</td>\n",
       "      <td>3.0</td>\n",
       "      <td>19.0</td>\n",
       "      <td>1.0</td>\n",
       "      <td>77.0</td>\n",
       "      <td>12.0</td>\n",
       "      <td>...</td>\n",
       "      <td>41.0</td>\n",
       "      <td>15.0</td>\n",
       "      <td>15.0</td>\n",
       "      <td>17.0</td>\n",
       "      <td>0.07</td>\n",
       "      <td>18.0</td>\n",
       "      <td>18.0</td>\n",
       "      <td>20.0</td>\n",
       "      <td>3.0</td>\n",
       "      <td>b'clean'</td>\n",
       "    </tr>\n",
       "    <tr>\n",
       "      <th>1</th>\n",
       "      <td>2.0</td>\n",
       "      <td>2.0</td>\n",
       "      <td>3.0</td>\n",
       "      <td>1.0</td>\n",
       "      <td>12.0</td>\n",
       "      <td>0.0</td>\n",
       "      <td>12.0</td>\n",
       "      <td>0.0</td>\n",
       "      <td>487.0</td>\n",
       "      <td>44.0</td>\n",
       "      <td>...</td>\n",
       "      <td>225.0</td>\n",
       "      <td>10.0</td>\n",
       "      <td>10.0</td>\n",
       "      <td>12.0</td>\n",
       "      <td>0.04</td>\n",
       "      <td>97.0</td>\n",
       "      <td>97.0</td>\n",
       "      <td>102.0</td>\n",
       "      <td>41.0</td>\n",
       "      <td>b'buggy'</td>\n",
       "    </tr>\n",
       "    <tr>\n",
       "      <th>2</th>\n",
       "      <td>4.0</td>\n",
       "      <td>4.0</td>\n",
       "      <td>6.0</td>\n",
       "      <td>1.0</td>\n",
       "      <td>20.0</td>\n",
       "      <td>1.0</td>\n",
       "      <td>14.0</td>\n",
       "      <td>6.0</td>\n",
       "      <td>29.0</td>\n",
       "      <td>4.0</td>\n",
       "      <td>...</td>\n",
       "      <td>9.0</td>\n",
       "      <td>4.0</td>\n",
       "      <td>4.0</td>\n",
       "      <td>6.0</td>\n",
       "      <td>0.44</td>\n",
       "      <td>4.0</td>\n",
       "      <td>4.0</td>\n",
       "      <td>6.0</td>\n",
       "      <td>1.0</td>\n",
       "      <td>b'clean'</td>\n",
       "    </tr>\n",
       "    <tr>\n",
       "      <th>3</th>\n",
       "      <td>3.0</td>\n",
       "      <td>2.0</td>\n",
       "      <td>3.0</td>\n",
       "      <td>1.0</td>\n",
       "      <td>16.0</td>\n",
       "      <td>1.0</td>\n",
       "      <td>14.0</td>\n",
       "      <td>0.0</td>\n",
       "      <td>374.0</td>\n",
       "      <td>53.0</td>\n",
       "      <td>...</td>\n",
       "      <td>150.0</td>\n",
       "      <td>7.0</td>\n",
       "      <td>7.0</td>\n",
       "      <td>8.0</td>\n",
       "      <td>0.15</td>\n",
       "      <td>51.0</td>\n",
       "      <td>48.0</td>\n",
       "      <td>56.0</td>\n",
       "      <td>19.0</td>\n",
       "      <td>b'buggy'</td>\n",
       "    </tr>\n",
       "    <tr>\n",
       "      <th>4</th>\n",
       "      <td>3.0</td>\n",
       "      <td>3.0</td>\n",
       "      <td>3.0</td>\n",
       "      <td>1.0</td>\n",
       "      <td>18.0</td>\n",
       "      <td>1.0</td>\n",
       "      <td>16.0</td>\n",
       "      <td>0.0</td>\n",
       "      <td>343.0</td>\n",
       "      <td>43.0</td>\n",
       "      <td>...</td>\n",
       "      <td>137.0</td>\n",
       "      <td>12.0</td>\n",
       "      <td>12.0</td>\n",
       "      <td>12.0</td>\n",
       "      <td>0.17</td>\n",
       "      <td>48.0</td>\n",
       "      <td>47.0</td>\n",
       "      <td>53.0</td>\n",
       "      <td>16.0</td>\n",
       "      <td>b'buggy'</td>\n",
       "    </tr>\n",
       "  </tbody>\n",
       "</table>\n",
       "<p>5 rows × 27 columns</p>\n",
       "</div>"
      ],
      "text/plain": [
       "   AvgCyclomatic  AvgCyclomaticModified  AvgCyclomaticStrict  AvgEssential  \\\n",
       "0            6.0                    6.0                  6.0           1.0   \n",
       "1            2.0                    2.0                  3.0           1.0   \n",
       "2            4.0                    4.0                  6.0           1.0   \n",
       "3            3.0                    2.0                  3.0           1.0   \n",
       "4            3.0                    3.0                  3.0           1.0   \n",
       "\n",
       "   AvgLine  AvgLineBlank  AvgLineCode  AvgLineComment  CountLine  \\\n",
       "0     24.0           3.0         19.0             1.0       77.0   \n",
       "1     12.0           0.0         12.0             0.0      487.0   \n",
       "2     20.0           1.0         14.0             6.0       29.0   \n",
       "3     16.0           1.0         14.0             0.0      374.0   \n",
       "4     18.0           1.0         16.0             0.0      343.0   \n",
       "\n",
       "   CountLineBlank  ...  CountStmtExe  MaxCyclomatic  MaxCyclomaticModified  \\\n",
       "0            12.0  ...          41.0           15.0                   15.0   \n",
       "1            44.0  ...         225.0           10.0                   10.0   \n",
       "2             4.0  ...           9.0            4.0                    4.0   \n",
       "3            53.0  ...         150.0            7.0                    7.0   \n",
       "4            43.0  ...         137.0           12.0                   12.0   \n",
       "\n",
       "   MaxCyclomaticStrict  RatioCommentToCode  SumCyclomatic  \\\n",
       "0                 17.0                0.07           18.0   \n",
       "1                 12.0                0.04           97.0   \n",
       "2                  6.0                0.44            4.0   \n",
       "3                  8.0                0.15           51.0   \n",
       "4                 12.0                0.17           48.0   \n",
       "\n",
       "   SumCyclomaticModified  SumCyclomaticStrict  SumEssential  isDefective  \n",
       "0                   18.0                 20.0           3.0     b'clean'  \n",
       "1                   97.0                102.0          41.0     b'buggy'  \n",
       "2                    4.0                  6.0           1.0     b'clean'  \n",
       "3                   48.0                 56.0          19.0     b'buggy'  \n",
       "4                   47.0                 53.0          16.0     b'buggy'  \n",
       "\n",
       "[5 rows x 27 columns]"
      ]
     },
     "execution_count": 2,
     "metadata": {},
     "output_type": "execute_result"
    }
   ],
   "source": [
    "df.head()"
   ]
  },
  {
   "cell_type": "code",
   "execution_count": 3,
   "id": "8c154a3c",
   "metadata": {
    "scrolled": true
   },
   "outputs": [
    {
     "data": {
      "text/html": [
       "<div>\n",
       "<style scoped>\n",
       "    .dataframe tbody tr th:only-of-type {\n",
       "        vertical-align: middle;\n",
       "    }\n",
       "\n",
       "    .dataframe tbody tr th {\n",
       "        vertical-align: top;\n",
       "    }\n",
       "\n",
       "    .dataframe thead th {\n",
       "        text-align: right;\n",
       "    }\n",
       "</style>\n",
       "<table border=\"1\" class=\"dataframe\">\n",
       "  <thead>\n",
       "    <tr style=\"text-align: right;\">\n",
       "      <th></th>\n",
       "      <th>AvgCyclomatic</th>\n",
       "      <th>AvgCyclomaticModified</th>\n",
       "      <th>AvgCyclomaticStrict</th>\n",
       "      <th>AvgEssential</th>\n",
       "      <th>AvgLine</th>\n",
       "      <th>AvgLineBlank</th>\n",
       "      <th>AvgLineCode</th>\n",
       "      <th>AvgLineComment</th>\n",
       "      <th>CountLine</th>\n",
       "      <th>CountLineBlank</th>\n",
       "      <th>...</th>\n",
       "      <th>CountStmtDecl</th>\n",
       "      <th>CountStmtExe</th>\n",
       "      <th>MaxCyclomatic</th>\n",
       "      <th>MaxCyclomaticModified</th>\n",
       "      <th>MaxCyclomaticStrict</th>\n",
       "      <th>RatioCommentToCode</th>\n",
       "      <th>SumCyclomatic</th>\n",
       "      <th>SumCyclomaticModified</th>\n",
       "      <th>SumCyclomaticStrict</th>\n",
       "      <th>SumEssential</th>\n",
       "    </tr>\n",
       "  </thead>\n",
       "  <tbody>\n",
       "    <tr>\n",
       "      <th>0</th>\n",
       "      <td>6.0</td>\n",
       "      <td>6.0</td>\n",
       "      <td>6.0</td>\n",
       "      <td>1.0</td>\n",
       "      <td>24.0</td>\n",
       "      <td>3.0</td>\n",
       "      <td>19.0</td>\n",
       "      <td>1.0</td>\n",
       "      <td>77.0</td>\n",
       "      <td>12.0</td>\n",
       "      <td>...</td>\n",
       "      <td>10.0</td>\n",
       "      <td>41.0</td>\n",
       "      <td>15.0</td>\n",
       "      <td>15.0</td>\n",
       "      <td>17.0</td>\n",
       "      <td>0.07</td>\n",
       "      <td>18.0</td>\n",
       "      <td>18.0</td>\n",
       "      <td>20.0</td>\n",
       "      <td>3.0</td>\n",
       "    </tr>\n",
       "    <tr>\n",
       "      <th>1</th>\n",
       "      <td>2.0</td>\n",
       "      <td>2.0</td>\n",
       "      <td>3.0</td>\n",
       "      <td>1.0</td>\n",
       "      <td>12.0</td>\n",
       "      <td>0.0</td>\n",
       "      <td>12.0</td>\n",
       "      <td>0.0</td>\n",
       "      <td>487.0</td>\n",
       "      <td>44.0</td>\n",
       "      <td>...</td>\n",
       "      <td>106.0</td>\n",
       "      <td>225.0</td>\n",
       "      <td>10.0</td>\n",
       "      <td>10.0</td>\n",
       "      <td>12.0</td>\n",
       "      <td>0.04</td>\n",
       "      <td>97.0</td>\n",
       "      <td>97.0</td>\n",
       "      <td>102.0</td>\n",
       "      <td>41.0</td>\n",
       "    </tr>\n",
       "    <tr>\n",
       "      <th>2</th>\n",
       "      <td>4.0</td>\n",
       "      <td>4.0</td>\n",
       "      <td>6.0</td>\n",
       "      <td>1.0</td>\n",
       "      <td>20.0</td>\n",
       "      <td>1.0</td>\n",
       "      <td>14.0</td>\n",
       "      <td>6.0</td>\n",
       "      <td>29.0</td>\n",
       "      <td>4.0</td>\n",
       "      <td>...</td>\n",
       "      <td>7.0</td>\n",
       "      <td>9.0</td>\n",
       "      <td>4.0</td>\n",
       "      <td>4.0</td>\n",
       "      <td>6.0</td>\n",
       "      <td>0.44</td>\n",
       "      <td>4.0</td>\n",
       "      <td>4.0</td>\n",
       "      <td>6.0</td>\n",
       "      <td>1.0</td>\n",
       "    </tr>\n",
       "    <tr>\n",
       "      <th>3</th>\n",
       "      <td>3.0</td>\n",
       "      <td>2.0</td>\n",
       "      <td>3.0</td>\n",
       "      <td>1.0</td>\n",
       "      <td>16.0</td>\n",
       "      <td>1.0</td>\n",
       "      <td>14.0</td>\n",
       "      <td>0.0</td>\n",
       "      <td>374.0</td>\n",
       "      <td>53.0</td>\n",
       "      <td>...</td>\n",
       "      <td>61.0</td>\n",
       "      <td>150.0</td>\n",
       "      <td>7.0</td>\n",
       "      <td>7.0</td>\n",
       "      <td>8.0</td>\n",
       "      <td>0.15</td>\n",
       "      <td>51.0</td>\n",
       "      <td>48.0</td>\n",
       "      <td>56.0</td>\n",
       "      <td>19.0</td>\n",
       "    </tr>\n",
       "    <tr>\n",
       "      <th>4</th>\n",
       "      <td>3.0</td>\n",
       "      <td>3.0</td>\n",
       "      <td>3.0</td>\n",
       "      <td>1.0</td>\n",
       "      <td>18.0</td>\n",
       "      <td>1.0</td>\n",
       "      <td>16.0</td>\n",
       "      <td>0.0</td>\n",
       "      <td>343.0</td>\n",
       "      <td>43.0</td>\n",
       "      <td>...</td>\n",
       "      <td>57.0</td>\n",
       "      <td>137.0</td>\n",
       "      <td>12.0</td>\n",
       "      <td>12.0</td>\n",
       "      <td>12.0</td>\n",
       "      <td>0.17</td>\n",
       "      <td>48.0</td>\n",
       "      <td>47.0</td>\n",
       "      <td>53.0</td>\n",
       "      <td>16.0</td>\n",
       "    </tr>\n",
       "  </tbody>\n",
       "</table>\n",
       "<p>5 rows × 26 columns</p>\n",
       "</div>"
      ],
      "text/plain": [
       "   AvgCyclomatic  AvgCyclomaticModified  AvgCyclomaticStrict  AvgEssential  \\\n",
       "0            6.0                    6.0                  6.0           1.0   \n",
       "1            2.0                    2.0                  3.0           1.0   \n",
       "2            4.0                    4.0                  6.0           1.0   \n",
       "3            3.0                    2.0                  3.0           1.0   \n",
       "4            3.0                    3.0                  3.0           1.0   \n",
       "\n",
       "   AvgLine  AvgLineBlank  AvgLineCode  AvgLineComment  CountLine  \\\n",
       "0     24.0           3.0         19.0             1.0       77.0   \n",
       "1     12.0           0.0         12.0             0.0      487.0   \n",
       "2     20.0           1.0         14.0             6.0       29.0   \n",
       "3     16.0           1.0         14.0             0.0      374.0   \n",
       "4     18.0           1.0         16.0             0.0      343.0   \n",
       "\n",
       "   CountLineBlank  ...  CountStmtDecl  CountStmtExe  MaxCyclomatic  \\\n",
       "0            12.0  ...           10.0          41.0           15.0   \n",
       "1            44.0  ...          106.0         225.0           10.0   \n",
       "2             4.0  ...            7.0           9.0            4.0   \n",
       "3            53.0  ...           61.0         150.0            7.0   \n",
       "4            43.0  ...           57.0         137.0           12.0   \n",
       "\n",
       "   MaxCyclomaticModified  MaxCyclomaticStrict  RatioCommentToCode  \\\n",
       "0                   15.0                 17.0                0.07   \n",
       "1                   10.0                 12.0                0.04   \n",
       "2                    4.0                  6.0                0.44   \n",
       "3                    7.0                  8.0                0.15   \n",
       "4                   12.0                 12.0                0.17   \n",
       "\n",
       "   SumCyclomatic  SumCyclomaticModified  SumCyclomaticStrict  SumEssential  \n",
       "0           18.0                   18.0                 20.0           3.0  \n",
       "1           97.0                   97.0                102.0          41.0  \n",
       "2            4.0                    4.0                  6.0           1.0  \n",
       "3           51.0                   48.0                 56.0          19.0  \n",
       "4           48.0                   47.0                 53.0          16.0  \n",
       "\n",
       "[5 rows x 26 columns]"
      ]
     },
     "execution_count": 3,
     "metadata": {},
     "output_type": "execute_result"
    }
   ],
   "source": [
    "x = df.drop(['isDefective'],axis = 'columns')\n",
    "x.head()"
   ]
  },
  {
   "cell_type": "code",
   "execution_count": 4,
   "id": "a1cb4f2a",
   "metadata": {},
   "outputs": [
    {
     "data": {
      "text/plain": [
       "(56, 26)"
      ]
     },
     "execution_count": 4,
     "metadata": {},
     "output_type": "execute_result"
    }
   ],
   "source": [
    "x.shape"
   ]
  },
  {
   "cell_type": "code",
   "execution_count": 5,
   "id": "6e2ec83b",
   "metadata": {},
   "outputs": [],
   "source": [
    "from sklearn.preprocessing import MinMaxScaler\n",
    "\n",
    "scalar = MinMaxScaler()\n",
    "scalar.fit(x)\n",
    "x = scalar.transform(x)"
   ]
  },
  {
   "cell_type": "code",
   "execution_count": 6,
   "id": "8b6de1dd",
   "metadata": {},
   "outputs": [
    {
     "data": {
      "text/html": [
       "<div>\n",
       "<style scoped>\n",
       "    .dataframe tbody tr th:only-of-type {\n",
       "        vertical-align: middle;\n",
       "    }\n",
       "\n",
       "    .dataframe tbody tr th {\n",
       "        vertical-align: top;\n",
       "    }\n",
       "\n",
       "    .dataframe thead th {\n",
       "        text-align: right;\n",
       "    }\n",
       "</style>\n",
       "<table border=\"1\" class=\"dataframe\">\n",
       "  <thead>\n",
       "    <tr style=\"text-align: right;\">\n",
       "      <th></th>\n",
       "      <th>0</th>\n",
       "      <th>1</th>\n",
       "      <th>2</th>\n",
       "      <th>3</th>\n",
       "      <th>4</th>\n",
       "      <th>5</th>\n",
       "      <th>6</th>\n",
       "      <th>7</th>\n",
       "      <th>8</th>\n",
       "      <th>9</th>\n",
       "      <th>...</th>\n",
       "      <th>16</th>\n",
       "      <th>17</th>\n",
       "      <th>18</th>\n",
       "      <th>19</th>\n",
       "      <th>20</th>\n",
       "      <th>21</th>\n",
       "      <th>22</th>\n",
       "      <th>23</th>\n",
       "      <th>24</th>\n",
       "      <th>25</th>\n",
       "    </tr>\n",
       "  </thead>\n",
       "  <tbody>\n",
       "    <tr>\n",
       "      <th>0</th>\n",
       "      <td>0.857143</td>\n",
       "      <td>0.857143</td>\n",
       "      <td>0.545455</td>\n",
       "      <td>0.5</td>\n",
       "      <td>0.48</td>\n",
       "      <td>0.3</td>\n",
       "      <td>0.500000</td>\n",
       "      <td>0.125</td>\n",
       "      <td>0.077895</td>\n",
       "      <td>0.100840</td>\n",
       "      <td>...</td>\n",
       "      <td>0.046512</td>\n",
       "      <td>0.112022</td>\n",
       "      <td>0.500000</td>\n",
       "      <td>0.517241</td>\n",
       "      <td>0.459459</td>\n",
       "      <td>0.009524</td>\n",
       "      <td>0.128571</td>\n",
       "      <td>0.129496</td>\n",
       "      <td>0.138889</td>\n",
       "      <td>0.055556</td>\n",
       "    </tr>\n",
       "    <tr>\n",
       "      <th>1</th>\n",
       "      <td>0.285714</td>\n",
       "      <td>0.285714</td>\n",
       "      <td>0.272727</td>\n",
       "      <td>0.5</td>\n",
       "      <td>0.24</td>\n",
       "      <td>0.0</td>\n",
       "      <td>0.315789</td>\n",
       "      <td>0.000</td>\n",
       "      <td>0.509474</td>\n",
       "      <td>0.369748</td>\n",
       "      <td>...</td>\n",
       "      <td>0.604651</td>\n",
       "      <td>0.614754</td>\n",
       "      <td>0.333333</td>\n",
       "      <td>0.344828</td>\n",
       "      <td>0.324324</td>\n",
       "      <td>0.005442</td>\n",
       "      <td>0.692857</td>\n",
       "      <td>0.697842</td>\n",
       "      <td>0.708333</td>\n",
       "      <td>0.759259</td>\n",
       "    </tr>\n",
       "    <tr>\n",
       "      <th>2</th>\n",
       "      <td>0.571429</td>\n",
       "      <td>0.571429</td>\n",
       "      <td>0.545455</td>\n",
       "      <td>0.5</td>\n",
       "      <td>0.40</td>\n",
       "      <td>0.1</td>\n",
       "      <td>0.368421</td>\n",
       "      <td>0.750</td>\n",
       "      <td>0.027368</td>\n",
       "      <td>0.033613</td>\n",
       "      <td>...</td>\n",
       "      <td>0.029070</td>\n",
       "      <td>0.024590</td>\n",
       "      <td>0.133333</td>\n",
       "      <td>0.137931</td>\n",
       "      <td>0.162162</td>\n",
       "      <td>0.059864</td>\n",
       "      <td>0.028571</td>\n",
       "      <td>0.028777</td>\n",
       "      <td>0.041667</td>\n",
       "      <td>0.018519</td>\n",
       "    </tr>\n",
       "    <tr>\n",
       "      <th>3</th>\n",
       "      <td>0.428571</td>\n",
       "      <td>0.285714</td>\n",
       "      <td>0.272727</td>\n",
       "      <td>0.5</td>\n",
       "      <td>0.32</td>\n",
       "      <td>0.1</td>\n",
       "      <td>0.368421</td>\n",
       "      <td>0.000</td>\n",
       "      <td>0.390526</td>\n",
       "      <td>0.445378</td>\n",
       "      <td>...</td>\n",
       "      <td>0.343023</td>\n",
       "      <td>0.409836</td>\n",
       "      <td>0.233333</td>\n",
       "      <td>0.241379</td>\n",
       "      <td>0.216216</td>\n",
       "      <td>0.020408</td>\n",
       "      <td>0.364286</td>\n",
       "      <td>0.345324</td>\n",
       "      <td>0.388889</td>\n",
       "      <td>0.351852</td>\n",
       "    </tr>\n",
       "    <tr>\n",
       "      <th>4</th>\n",
       "      <td>0.428571</td>\n",
       "      <td>0.428571</td>\n",
       "      <td>0.272727</td>\n",
       "      <td>0.5</td>\n",
       "      <td>0.36</td>\n",
       "      <td>0.1</td>\n",
       "      <td>0.421053</td>\n",
       "      <td>0.000</td>\n",
       "      <td>0.357895</td>\n",
       "      <td>0.361345</td>\n",
       "      <td>...</td>\n",
       "      <td>0.319767</td>\n",
       "      <td>0.374317</td>\n",
       "      <td>0.400000</td>\n",
       "      <td>0.413793</td>\n",
       "      <td>0.324324</td>\n",
       "      <td>0.023129</td>\n",
       "      <td>0.342857</td>\n",
       "      <td>0.338129</td>\n",
       "      <td>0.368056</td>\n",
       "      <td>0.296296</td>\n",
       "    </tr>\n",
       "  </tbody>\n",
       "</table>\n",
       "<p>5 rows × 26 columns</p>\n",
       "</div>"
      ],
      "text/plain": [
       "         0         1         2    3     4    5         6      7         8   \\\n",
       "0  0.857143  0.857143  0.545455  0.5  0.48  0.3  0.500000  0.125  0.077895   \n",
       "1  0.285714  0.285714  0.272727  0.5  0.24  0.0  0.315789  0.000  0.509474   \n",
       "2  0.571429  0.571429  0.545455  0.5  0.40  0.1  0.368421  0.750  0.027368   \n",
       "3  0.428571  0.285714  0.272727  0.5  0.32  0.1  0.368421  0.000  0.390526   \n",
       "4  0.428571  0.428571  0.272727  0.5  0.36  0.1  0.421053  0.000  0.357895   \n",
       "\n",
       "         9   ...        16        17        18        19        20        21  \\\n",
       "0  0.100840  ...  0.046512  0.112022  0.500000  0.517241  0.459459  0.009524   \n",
       "1  0.369748  ...  0.604651  0.614754  0.333333  0.344828  0.324324  0.005442   \n",
       "2  0.033613  ...  0.029070  0.024590  0.133333  0.137931  0.162162  0.059864   \n",
       "3  0.445378  ...  0.343023  0.409836  0.233333  0.241379  0.216216  0.020408   \n",
       "4  0.361345  ...  0.319767  0.374317  0.400000  0.413793  0.324324  0.023129   \n",
       "\n",
       "         22        23        24        25  \n",
       "0  0.128571  0.129496  0.138889  0.055556  \n",
       "1  0.692857  0.697842  0.708333  0.759259  \n",
       "2  0.028571  0.028777  0.041667  0.018519  \n",
       "3  0.364286  0.345324  0.388889  0.351852  \n",
       "4  0.342857  0.338129  0.368056  0.296296  \n",
       "\n",
       "[5 rows x 26 columns]"
      ]
     },
     "execution_count": 6,
     "metadata": {},
     "output_type": "execute_result"
    }
   ],
   "source": [
    "x = pd.DataFrame(x)\n",
    "x.head()"
   ]
  },
  {
   "cell_type": "code",
   "execution_count": 7,
   "id": "a569b4bc",
   "metadata": {},
   "outputs": [
    {
     "data": {
      "text/plain": [
       "array([0, 1, 0, 1, 1], dtype=int32)"
      ]
     },
     "execution_count": 7,
     "metadata": {},
     "output_type": "execute_result"
    }
   ],
   "source": [
    "from sklearn.cluster import KMeans\n",
    "\n",
    "kmeans_model = KMeans(n_clusters = 2)\n",
    "kmeans_model.fit(x)\n",
    "\n",
    "kmeans_prediction = kmeans_model.predict(x)\n",
    "x['cluster'] = kmeans_prediction\n",
    "\n",
    "kmeans_prediction[:5]"
   ]
  },
  {
   "cell_type": "code",
   "execution_count": 8,
   "id": "3d5d8697",
   "metadata": {},
   "outputs": [],
   "source": [
    "def ASFM(DataFrame):\n",
    "    SFM = 0\n",
    "    \n",
    "    x,y = DataFrame.shape\n",
    "    \n",
    "    for i in range(x):\n",
    "        for j in range(y-1):\n",
    "            SFM += DataFrame.iloc[i,j]\n",
    "    \n",
    "    return SFM/x"
   ]
  },
  {
   "cell_type": "code",
   "execution_count": 9,
   "id": "9acffdbe",
   "metadata": {},
   "outputs": [],
   "source": [
    "df0 = x[x.cluster==0]\n",
    "df1 = x[x.cluster==1]"
   ]
  },
  {
   "cell_type": "code",
   "execution_count": 10,
   "id": "04236c1e",
   "metadata": {},
   "outputs": [
    {
     "name": "stdout",
     "output_type": "stream",
     "text": [
      "ASFM0 : 3.1460765559710167\n",
      "ASFM1 : 11.409321073504238\n"
     ]
    }
   ],
   "source": [
    "ASFM0 = ASFM(df0)\n",
    "ASFM1 = ASFM(df1)\n",
    "\n",
    "print(f\"ASFM0 : {ASFM0}\")\n",
    "print(f\"ASFM1 : {ASFM1}\")"
   ]
  },
  {
   "cell_type": "code",
   "execution_count": 11,
   "id": "19d7f355",
   "metadata": {},
   "outputs": [],
   "source": [
    "#ASFM1 value is greater than ASFM0, so label 1 will represent defected software and 0 represents non-defected \n",
    "#software\n",
    "\n",
    "\n",
    "\n",
    "TP = 0\n",
    "FN = 0\n",
    "TN = 0\n",
    "FP = 0\n",
    "\n",
    "\n",
    "for i in range(56):\n",
    "    \n",
    "    defect = df.iloc[i,26]\n",
    "    buggy = df.iloc[1,26]\n",
    "    clean = df.iloc[0,26]\n",
    "    \n",
    "    if defect == buggy and kmeans_prediction[i]==1:\n",
    "        TP += 1\n",
    "    elif defect == buggy and kmeans_prediction[i]==0:\n",
    "        FN += 1\n",
    "    elif defect == clean and kmeans_prediction[i]==0:\n",
    "        TN += 1\n",
    "    else:\n",
    "        FP += 1\n",
    "        "
   ]
  },
  {
   "cell_type": "code",
   "execution_count": 12,
   "id": "64c66940",
   "metadata": {},
   "outputs": [
    {
     "name": "stdout",
     "output_type": "stream",
     "text": [
      "MCC : 0.42167482785855936\n",
      "Accuracy : 0.7321428571428571\n"
     ]
    }
   ],
   "source": [
    "#Matthew Correlation Coefficient\n",
    "\n",
    "MCC = (TP*TN-FP*FN)/math.sqrt((TP+FP)*(TP+FN)*(TN+FP)*(TN+FN))\n",
    "\n",
    "accuracy = (TP+TN)/len(df)\n",
    "\n",
    "print(f\"MCC : {MCC}\")\n",
    "print(f\"Accuracy : {accuracy}\")"
   ]
  },
  {
   "cell_type": "code",
   "execution_count": 13,
   "id": "f447c0eb",
   "metadata": {},
   "outputs": [
    {
     "data": {
      "text/plain": [
       "array([0, 1, 0, 0, 0])"
      ]
     },
     "execution_count": 13,
     "metadata": {},
     "output_type": "execute_result"
    }
   ],
   "source": [
    "from sklearn.cluster import AgglomerativeClustering\n",
    "\n",
    "ag_model = AgglomerativeClustering(n_clusters = 2)\n",
    "\n",
    "x = x.drop(['cluster'],axis = 'columns')\n",
    "ag_model.fit(x)\n",
    "ag_prediction = ag_model.labels_\n",
    "x['cluster'] = ag_prediction\n",
    "\n",
    "ag_prediction[:5]"
   ]
  },
  {
   "cell_type": "code",
   "execution_count": 14,
   "id": "886d205b",
   "metadata": {},
   "outputs": [],
   "source": [
    "df0 = x[x.cluster==0]\n",
    "df1 = x[x.cluster==1]\n"
   ]
  },
  {
   "cell_type": "code",
   "execution_count": 15,
   "id": "373bad6b",
   "metadata": {},
   "outputs": [
    {
     "name": "stdout",
     "output_type": "stream",
     "text": [
      "ASFM0 : 4.263157472962583\n",
      "ASFM1 : 14.49518020820765\n"
     ]
    }
   ],
   "source": [
    "ASFM0 = ASFM(df0)\n",
    "ASFM1 = ASFM(df1)\n",
    "\n",
    "print(f\"ASFM0 : {ASFM0}\")\n",
    "print(f\"ASFM1 : {ASFM1}\")"
   ]
  },
  {
   "cell_type": "code",
   "execution_count": 16,
   "id": "724fb371",
   "metadata": {},
   "outputs": [],
   "source": [
    "#ASFM1 value is greater than ASFM0, so label 1 will represent defected software and 0 represents non-defected \n",
    "#software\n",
    "\n",
    "\n",
    "\n",
    "TP = 0\n",
    "FN = 0\n",
    "TN = 0\n",
    "FP = 0\n",
    "\n",
    "\n",
    "for i in range(56):\n",
    "    \n",
    "    defect = df.iloc[i,26]\n",
    "    buggy = df.iloc[1,26]\n",
    "    clean = df.iloc[0,26]\n",
    "    \n",
    "    if defect == buggy and ag_prediction[i]==1:\n",
    "        TP += 1\n",
    "    elif defect == buggy and ag_prediction[i]==0:\n",
    "        FN += 1\n",
    "    elif defect == clean and ag_prediction[i]==0:\n",
    "        TN += 1\n",
    "    else:\n",
    "        FP += 1\n",
    "    "
   ]
  },
  {
   "cell_type": "code",
   "execution_count": 17,
   "id": "583e547c",
   "metadata": {},
   "outputs": [
    {
     "name": "stdout",
     "output_type": "stream",
     "text": [
      "MCC : 0.43064433753916403\n",
      "Accuracy : 0.7142857142857143\n"
     ]
    }
   ],
   "source": [
    "#Matthew Correlation Coefficient\n",
    "import math\n",
    "\n",
    "MCC = (TP*TN-FP*FN)/math.sqrt((TP+FP)*(TP+FN)*(TN+FP)*(TN+FN))\n",
    "\n",
    "accuracy = (TP+TN)/len(df)\n",
    "\n",
    "print(f\"MCC : {MCC}\")\n",
    "print(f\"Accuracy : {accuracy}\")"
   ]
  },
  {
   "cell_type": "code",
   "execution_count": 18,
   "id": "c142cb8e",
   "metadata": {},
   "outputs": [
    {
     "data": {
      "text/plain": [
       "array([0, 1, 0, 1, 1])"
      ]
     },
     "execution_count": 18,
     "metadata": {},
     "output_type": "execute_result"
    }
   ],
   "source": [
    "from sklearn.mixture import GaussianMixture\n",
    "\n",
    "gm_model = GaussianMixture(n_components = 2)\n",
    "\n",
    "x = x.drop(['cluster'],axis = 'columns')\n",
    "gm_model.fit(x)\n",
    "gm_prediction = gm_model.predict(x)\n",
    "x['cluster'] = gm_prediction\n",
    "\n",
    "gm_prediction[:5]"
   ]
  },
  {
   "cell_type": "code",
   "execution_count": 19,
   "id": "5f534124",
   "metadata": {},
   "outputs": [],
   "source": [
    "df0 = x[x.cluster==0]\n",
    "df1 = x[x.cluster==1]\n"
   ]
  },
  {
   "cell_type": "code",
   "execution_count": 20,
   "id": "bb3e7633",
   "metadata": {},
   "outputs": [
    {
     "name": "stdout",
     "output_type": "stream",
     "text": [
      "ASFM0 : 3.041005419280423\n",
      "ASFM1 : 11.155546132884902\n"
     ]
    }
   ],
   "source": [
    "ASFM0 = ASFM(df0)\n",
    "ASFM1 = ASFM(df1)\n",
    "\n",
    "print(f\"ASFM0 : {ASFM0}\")\n",
    "print(f\"ASFM1 : {ASFM1}\")"
   ]
  },
  {
   "cell_type": "code",
   "execution_count": 23,
   "id": "9cbd5367",
   "metadata": {},
   "outputs": [],
   "source": [
    "#ASFM1 value is greater than ASFM0, so label 1 will represent defected software and 0 represents non-defected \n",
    "#software\n",
    "\n",
    "\n",
    "\n",
    "TP = 0\n",
    "FN = 0\n",
    "TN = 0\n",
    "FP = 0\n",
    "\n",
    "\n",
    "for i in range(56):\n",
    "    \n",
    "    defect = df.iloc[i,26]\n",
    "    buggy = df.iloc[1,26]\n",
    "    clean = df.iloc[0,26]\n",
    "    \n",
    "    if defect == buggy and gm_prediction[i]==1:\n",
    "        TP += 1\n",
    "    elif defect == buggy and gm_prediction[i]==0:\n",
    "        FN += 1\n",
    "    elif defect == clean and gm_prediction[i]==0:\n",
    "        TN += 1\n",
    "    else:\n",
    "        FP += 1\n",
    "   "
   ]
  },
  {
   "cell_type": "code",
   "execution_count": 24,
   "id": "73ceb370",
   "metadata": {},
   "outputs": [
    {
     "name": "stdout",
     "output_type": "stream",
     "text": [
      "MCC : 0.4624972900628803\n",
      "Accuracy : 0.75\n"
     ]
    }
   ],
   "source": [
    "#Matthew Correlation Coefficient\n",
    "\n",
    "MCC = (TP*TN-FP*FN)/math.sqrt((TP+FP)*(TP+FN)*(TN+FP)*(TN+FN))\n",
    "\n",
    "accuracy = (TP+TN)/len(df)\n",
    "\n",
    "print(f\"MCC : {MCC}\")\n",
    "print(f\"Accuracy : {accuracy}\")"
   ]
  },
  {
   "cell_type": "code",
   "execution_count": 25,
   "id": "5b284639",
   "metadata": {},
   "outputs": [
    {
     "data": {
      "text/plain": [
       "array([0, 0, 0, 0, 0], dtype=int32)"
      ]
     },
     "execution_count": 25,
     "metadata": {},
     "output_type": "execute_result"
    }
   ],
   "source": [
    "from sklearn.cluster import SpectralClustering\n",
    "\n",
    "SC_model = SpectralClustering(n_clusters = 2)\n",
    "\n",
    "x = x.drop(['cluster'],axis = 'columns')\n",
    "SC_model.fit(x)\n",
    "\n",
    "SC_prediction = SC_model.labels_\n",
    "x['cluster'] = SC_prediction\n",
    "\n",
    "SC_prediction[:5]"
   ]
  },
  {
   "cell_type": "code",
   "execution_count": 26,
   "id": "f50713d1",
   "metadata": {},
   "outputs": [],
   "source": [
    "df0 = x[x.cluster==0]\n",
    "df1 = x[x.cluster==1]\n"
   ]
  },
  {
   "cell_type": "code",
   "execution_count": 27,
   "id": "e56fa3db",
   "metadata": {},
   "outputs": [
    {
     "name": "stdout",
     "output_type": "stream",
     "text": [
      "ASFM0 : 4.842970493270617\n",
      "ASFM1 : 19.304274130380797\n"
     ]
    }
   ],
   "source": [
    "ASFM0 = ASFM(df0)\n",
    "ASFM1 = ASFM(df1)\n",
    "\n",
    "print(f\"ASFM0 : {ASFM0}\")\n",
    "print(f\"ASFM1 : {ASFM1}\")"
   ]
  },
  {
   "cell_type": "code",
   "execution_count": 28,
   "id": "1a32beb7",
   "metadata": {},
   "outputs": [],
   "source": [
    "#ASFM1 value is greater than ASFM0, so label 1 will represent defected software and 0 represents non-defected \n",
    "#software\n",
    "\n",
    "\n",
    "\n",
    "TP = 0\n",
    "FN = 0\n",
    "TN = 0\n",
    "FP = 0\n",
    "\n",
    "\n",
    "for i in range(56):\n",
    "    \n",
    "    defect = df.iloc[i,26]\n",
    "    buggy = df.iloc[1,26]\n",
    "    clean = df.iloc[0,26]\n",
    "    \n",
    "    if defect == buggy and SC_prediction[i]==1:\n",
    "        TP += 1\n",
    "    elif defect == buggy and SC_prediction[i]==0:\n",
    "        FN += 1\n",
    "    elif defect == clean and SC_prediction[i]==0:\n",
    "        TN += 1\n",
    "    else:\n",
    "        FP += 1\n",
    "  "
   ]
  },
  {
   "cell_type": "code",
   "execution_count": 29,
   "id": "8a80bd30",
   "metadata": {},
   "outputs": [
    {
     "name": "stdout",
     "output_type": "stream",
     "text": [
      "MCC : 0.23924685418842448\n",
      "Accuracy : 0.6428571428571429\n"
     ]
    }
   ],
   "source": [
    "#Matthew Correlation Coefficient\n",
    "\n",
    "MCC = (TP*TN-FP*FN)/math.sqrt((TP+FP)*(TP+FN)*(TN+FP)*(TN+FN))\n",
    "\n",
    "accuracy = (TP+TN)/len(df)\n",
    "\n",
    "print(f\"MCC : {MCC}\")\n",
    "print(f\"Accuracy : {accuracy}\")"
   ]
  },
  {
   "cell_type": "code",
   "execution_count": 30,
   "id": "2cfec979",
   "metadata": {},
   "outputs": [
    {
     "data": {
      "text/plain": [
       "array([0, 1, 0, 1, 1], dtype=int32)"
      ]
     },
     "execution_count": 30,
     "metadata": {},
     "output_type": "execute_result"
    }
   ],
   "source": [
    "from sklearn.cluster import MiniBatchKMeans\n",
    "\n",
    "miniBatchKmeans_model = MiniBatchKMeans(n_clusters = 2)\n",
    "\n",
    "x = x.drop(['cluster'],axis = 'columns')\n",
    "miniBatchKmeans_model.fit(x)\n",
    "miniBatchKmeans_prediction = miniBatchKmeans_model.labels_\n",
    "x['cluster'] = miniBatchKmeans_prediction\n",
    "\n",
    "miniBatchKmeans_prediction[:5]"
   ]
  },
  {
   "cell_type": "code",
   "execution_count": 31,
   "id": "21e9e2b0",
   "metadata": {},
   "outputs": [],
   "source": [
    "df0 = x[x.cluster==0]\n",
    "df1 = x[x.cluster==1]\n"
   ]
  },
  {
   "cell_type": "code",
   "execution_count": 32,
   "id": "52e914ed",
   "metadata": {},
   "outputs": [
    {
     "name": "stdout",
     "output_type": "stream",
     "text": [
      "ASFM0 : 3.1460765559710167\n",
      "ASFM1 : 11.409321073504238\n"
     ]
    }
   ],
   "source": [
    "ASFM0 = ASFM(df0)\n",
    "ASFM1 = ASFM(df1)\n",
    "\n",
    "print(f\"ASFM0 : {ASFM0}\")\n",
    "print(f\"ASFM1 : {ASFM1}\")"
   ]
  },
  {
   "cell_type": "code",
   "execution_count": 35,
   "id": "7c6f7050",
   "metadata": {},
   "outputs": [],
   "source": [
    "#ASFM1 value is greater than ASFM0, so label 1 will represent defected software and 0 represents non-defected \n",
    "#software\n",
    "\n",
    "\n",
    "\n",
    "TP = 0\n",
    "FN = 0\n",
    "TN = 0\n",
    "FP = 0\n",
    "\n",
    "\n",
    "for i in range(56):\n",
    "    \n",
    "    defect = df.iloc[i,26]\n",
    "    buggy = df.iloc[1,26]\n",
    "    clean = df.iloc[0,26]\n",
    "    \n",
    "    if defect == buggy and miniBatchKmeans_prediction[i]==1:\n",
    "        TP += 1\n",
    "    elif defect == buggy and miniBatchKmeans_prediction[i]==0:\n",
    "        FN += 1\n",
    "    elif defect == clean and miniBatchKmeans_prediction[i]==0:\n",
    "        TN += 1\n",
    "    else:\n",
    "        FP += 1\n",
    "  "
   ]
  },
  {
   "cell_type": "code",
   "execution_count": 36,
   "id": "89e34d8a",
   "metadata": {},
   "outputs": [
    {
     "name": "stdout",
     "output_type": "stream",
     "text": [
      "MCC : 0.42167482785855936\n",
      "Accuracy : 0.7321428571428571\n"
     ]
    }
   ],
   "source": [
    "#Matthew Correlation Coefficient\n",
    "\n",
    "MCC = (TP*TN-FP*FN)/math.sqrt((TP+FP)*(TP+FN)*(TN+FP)*(TN+FN))\n",
    "\n",
    "accuracy = (TP+TN)/len(df)\n",
    "\n",
    "print(f\"MCC : {MCC}\")\n",
    "print(f\"Accuracy : {accuracy}\")"
   ]
  },
  {
   "cell_type": "code",
   "execution_count": 37,
   "id": "72409ec8",
   "metadata": {},
   "outputs": [
    {
     "data": {
      "text/plain": [
       "array([0, 1, 0, 0, 0])"
      ]
     },
     "execution_count": 37,
     "metadata": {},
     "output_type": "execute_result"
    }
   ],
   "source": [
    "from sklearn.cluster import Birch\n",
    "\n",
    "birch_model = Birch(threshold=0.01, n_clusters=2)\n",
    "\n",
    "x = x.drop(['cluster'],axis = 'columns')\n",
    "birch_model.fit(x)\n",
    "birch_prediction = birch_model.labels_\n",
    "x['cluster'] = birch_prediction\n",
    "\n",
    "birch_prediction[:5]"
   ]
  },
  {
   "cell_type": "code",
   "execution_count": 38,
   "id": "51235498",
   "metadata": {},
   "outputs": [],
   "source": [
    "df0 = x[x.cluster==0]\n",
    "df1 = x[x.cluster==1]\n"
   ]
  },
  {
   "cell_type": "code",
   "execution_count": 39,
   "id": "a7245542",
   "metadata": {},
   "outputs": [
    {
     "name": "stdout",
     "output_type": "stream",
     "text": [
      "ASFM0 : 4.263157472962583\n",
      "ASFM1 : 14.49518020820765\n"
     ]
    }
   ],
   "source": [
    "ASFM0 = ASFM(df0)\n",
    "ASFM1 = ASFM(df1)\n",
    "\n",
    "print(f\"ASFM0 : {ASFM0}\")\n",
    "print(f\"ASFM1 : {ASFM1}\")"
   ]
  },
  {
   "cell_type": "code",
   "execution_count": 40,
   "id": "3c1e88e0",
   "metadata": {},
   "outputs": [],
   "source": [
    "#ASFM1 value is greater than ASFM0, so label 1 will represent defected software and 0 represents non-defected \n",
    "#software\n",
    "\n",
    "\n",
    "\n",
    "TP = 0\n",
    "FN = 0\n",
    "TN = 0\n",
    "FP = 0\n",
    "\n",
    "\n",
    "for i in range(56):\n",
    "    \n",
    "    defect = df.iloc[i,26]\n",
    "    buggy = df.iloc[1,26]\n",
    "    clean = df.iloc[0,26]\n",
    "    \n",
    "    if defect == buggy and birch_prediction[i]==1:\n",
    "        TP += 1\n",
    "    elif defect == buggy and birch_prediction[i]==0:\n",
    "        FN += 1\n",
    "    elif defect == clean and birch_prediction[i]==0:\n",
    "        TN += 1\n",
    "    else:\n",
    "        FP += 1\n",
    " "
   ]
  },
  {
   "cell_type": "code",
   "execution_count": 41,
   "id": "4e420eac",
   "metadata": {},
   "outputs": [
    {
     "name": "stdout",
     "output_type": "stream",
     "text": [
      "MCC : 0.43064433753916403\n",
      "Accuracy : 0.7142857142857143\n"
     ]
    }
   ],
   "source": [
    "#Matthew Correlation Coefficient\n",
    "\n",
    "MCC = (TP*TN-FP*FN)/math.sqrt((TP+FP)*(TP+FN)*(TN+FP)*(TN+FN))\n",
    "\n",
    "accuracy = (TP+TN)/len(df)\n",
    "\n",
    "print(f\"MCC : {MCC}\")\n",
    "print(f\"Accuracy : {accuracy}\")"
   ]
  },
  {
   "cell_type": "code",
   "execution_count": null,
   "id": "71fd04e8",
   "metadata": {},
   "outputs": [],
   "source": []
  }
 ],
 "metadata": {
  "kernelspec": {
   "display_name": "Python 3 (ipykernel)",
   "language": "python",
   "name": "python3"
  },
  "language_info": {
   "codemirror_mode": {
    "name": "ipython",
    "version": 3
   },
   "file_extension": ".py",
   "mimetype": "text/x-python",
   "name": "python",
   "nbconvert_exporter": "python",
   "pygments_lexer": "ipython3",
   "version": "3.8.10"
  }
 },
 "nbformat": 4,
 "nbformat_minor": 5
}
