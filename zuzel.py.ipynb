{
 "cells": [
  {
   "cell_type": "code",
   "execution_count": 33,
   "id": "024c6c22",
   "metadata": {},
   "outputs": [],
   "source": [
    "import pandas as pd\n",
    "import numpy as np\n",
    "\n",
    "from numpy import unique\n",
    "from numpy import where\n",
    "from matplotlib import pyplot\n",
    "\n",
    "df = pd.read_csv('./DefectData/inst/extdata/terapromise/ck/zuzel.csv')"
   ]
  },
  {
   "cell_type": "code",
   "execution_count": 35,
   "id": "3896760d",
   "metadata": {},
   "outputs": [
    {
     "data": {
      "text/html": [
       "<div>\n",
       "<style scoped>\n",
       "    .dataframe tbody tr th:only-of-type {\n",
       "        vertical-align: middle;\n",
       "    }\n",
       "\n",
       "    .dataframe tbody tr th {\n",
       "        vertical-align: top;\n",
       "    }\n",
       "\n",
       "    .dataframe thead th {\n",
       "        text-align: right;\n",
       "    }\n",
       "</style>\n",
       "<table border=\"1\" class=\"dataframe\">\n",
       "  <thead>\n",
       "    <tr style=\"text-align: right;\">\n",
       "      <th></th>\n",
       "      <th>name</th>\n",
       "      <th>version</th>\n",
       "      <th>name.1</th>\n",
       "      <th>wmc</th>\n",
       "      <th>dit</th>\n",
       "      <th>noc</th>\n",
       "      <th>cbo</th>\n",
       "      <th>rfc</th>\n",
       "      <th>lcom</th>\n",
       "      <th>ca</th>\n",
       "      <th>...</th>\n",
       "      <th>dam</th>\n",
       "      <th>moa</th>\n",
       "      <th>mfa</th>\n",
       "      <th>cam</th>\n",
       "      <th>ic</th>\n",
       "      <th>cbm</th>\n",
       "      <th>amc</th>\n",
       "      <th>max_cc</th>\n",
       "      <th>avg_cc</th>\n",
       "      <th>bug</th>\n",
       "    </tr>\n",
       "  </thead>\n",
       "  <tbody>\n",
       "    <tr>\n",
       "      <th>0</th>\n",
       "      <td>Zuzel</td>\n",
       "      <td>1</td>\n",
       "      <td>windows.tabela</td>\n",
       "      <td>6</td>\n",
       "      <td>6</td>\n",
       "      <td>0</td>\n",
       "      <td>0</td>\n",
       "      <td>27</td>\n",
       "      <td>7</td>\n",
       "      <td>0</td>\n",
       "      <td>...</td>\n",
       "      <td>1.000000</td>\n",
       "      <td>0</td>\n",
       "      <td>0.992089</td>\n",
       "      <td>1.000000</td>\n",
       "      <td>0</td>\n",
       "      <td>0</td>\n",
       "      <td>27.500000</td>\n",
       "      <td>2</td>\n",
       "      <td>1.5</td>\n",
       "      <td>0</td>\n",
       "    </tr>\n",
       "    <tr>\n",
       "      <th>1</th>\n",
       "      <td>Zuzel</td>\n",
       "      <td>1</td>\n",
       "      <td>manadzerData.Motor</td>\n",
       "      <td>10</td>\n",
       "      <td>1</td>\n",
       "      <td>0</td>\n",
       "      <td>14</td>\n",
       "      <td>11</td>\n",
       "      <td>3</td>\n",
       "      <td>14</td>\n",
       "      <td>...</td>\n",
       "      <td>1.000000</td>\n",
       "      <td>0</td>\n",
       "      <td>0.000000</td>\n",
       "      <td>0.533333</td>\n",
       "      <td>0</td>\n",
       "      <td>0</td>\n",
       "      <td>5.800000</td>\n",
       "      <td>1</td>\n",
       "      <td>0.8</td>\n",
       "      <td>0</td>\n",
       "    </tr>\n",
       "    <tr>\n",
       "      <th>2</th>\n",
       "      <td>Zuzel</td>\n",
       "      <td>1</td>\n",
       "      <td>bean.ProfilBean</td>\n",
       "      <td>5</td>\n",
       "      <td>1</td>\n",
       "      <td>0</td>\n",
       "      <td>2</td>\n",
       "      <td>19</td>\n",
       "      <td>0</td>\n",
       "      <td>0</td>\n",
       "      <td>...</td>\n",
       "      <td>1.000000</td>\n",
       "      <td>0</td>\n",
       "      <td>0.000000</td>\n",
       "      <td>0.466667</td>\n",
       "      <td>0</td>\n",
       "      <td>0</td>\n",
       "      <td>16.000000</td>\n",
       "      <td>2</td>\n",
       "      <td>1.0</td>\n",
       "      <td>0</td>\n",
       "    </tr>\n",
       "    <tr>\n",
       "      <th>3</th>\n",
       "      <td>Zuzel</td>\n",
       "      <td>1</td>\n",
       "      <td>proby.opener</td>\n",
       "      <td>2</td>\n",
       "      <td>1</td>\n",
       "      <td>0</td>\n",
       "      <td>3</td>\n",
       "      <td>17</td>\n",
       "      <td>1</td>\n",
       "      <td>0</td>\n",
       "      <td>...</td>\n",
       "      <td>0.000000</td>\n",
       "      <td>0</td>\n",
       "      <td>0.000000</td>\n",
       "      <td>0.500000</td>\n",
       "      <td>0</td>\n",
       "      <td>0</td>\n",
       "      <td>46.500000</td>\n",
       "      <td>2</td>\n",
       "      <td>1.0</td>\n",
       "      <td>0</td>\n",
       "    </tr>\n",
       "    <tr>\n",
       "      <th>4</th>\n",
       "      <td>Zuzel</td>\n",
       "      <td>1</td>\n",
       "      <td>windows.Formularz</td>\n",
       "      <td>15</td>\n",
       "      <td>6</td>\n",
       "      <td>0</td>\n",
       "      <td>7</td>\n",
       "      <td>49</td>\n",
       "      <td>73</td>\n",
       "      <td>3</td>\n",
       "      <td>...</td>\n",
       "      <td>0.916667</td>\n",
       "      <td>2</td>\n",
       "      <td>0.978159</td>\n",
       "      <td>0.355556</td>\n",
       "      <td>0</td>\n",
       "      <td>0</td>\n",
       "      <td>26.466667</td>\n",
       "      <td>3</td>\n",
       "      <td>1.6</td>\n",
       "      <td>1</td>\n",
       "    </tr>\n",
       "  </tbody>\n",
       "</table>\n",
       "<p>5 rows × 24 columns</p>\n",
       "</div>"
      ],
      "text/plain": [
       "    name  version              name.1  wmc  dit  noc  cbo  rfc  lcom  ca  ...  \\\n",
       "0  Zuzel        1      windows.tabela    6    6    0    0   27     7   0  ...   \n",
       "1  Zuzel        1  manadzerData.Motor   10    1    0   14   11     3  14  ...   \n",
       "2  Zuzel        1     bean.ProfilBean    5    1    0    2   19     0   0  ...   \n",
       "3  Zuzel        1        proby.opener    2    1    0    3   17     1   0  ...   \n",
       "4  Zuzel        1   windows.Formularz   15    6    0    7   49    73   3  ...   \n",
       "\n",
       "        dam  moa       mfa       cam  ic  cbm        amc  max_cc  avg_cc  bug  \n",
       "0  1.000000    0  0.992089  1.000000   0    0  27.500000       2     1.5    0  \n",
       "1  1.000000    0  0.000000  0.533333   0    0   5.800000       1     0.8    0  \n",
       "2  1.000000    0  0.000000  0.466667   0    0  16.000000       2     1.0    0  \n",
       "3  0.000000    0  0.000000  0.500000   0    0  46.500000       2     1.0    0  \n",
       "4  0.916667    2  0.978159  0.355556   0    0  26.466667       3     1.6    1  \n",
       "\n",
       "[5 rows x 24 columns]"
      ]
     },
     "execution_count": 35,
     "metadata": {},
     "output_type": "execute_result"
    }
   ],
   "source": [
    "df.head()"
   ]
  },
  {
   "cell_type": "code",
   "execution_count": 36,
   "id": "603ee380",
   "metadata": {},
   "outputs": [
    {
     "data": {
      "text/plain": [
       "(29, 24)"
      ]
     },
     "execution_count": 36,
     "metadata": {},
     "output_type": "execute_result"
    }
   ],
   "source": [
    "df.shape"
   ]
  },
  {
   "cell_type": "code",
   "execution_count": 37,
   "id": "7a1c8367",
   "metadata": {},
   "outputs": [],
   "source": [
    "x = df.drop(['name','version','name.1'],axis='columns')"
   ]
  },
  {
   "cell_type": "code",
   "execution_count": 38,
   "id": "89eddbd9",
   "metadata": {},
   "outputs": [
    {
     "data": {
      "text/html": [
       "<div>\n",
       "<style scoped>\n",
       "    .dataframe tbody tr th:only-of-type {\n",
       "        vertical-align: middle;\n",
       "    }\n",
       "\n",
       "    .dataframe tbody tr th {\n",
       "        vertical-align: top;\n",
       "    }\n",
       "\n",
       "    .dataframe thead th {\n",
       "        text-align: right;\n",
       "    }\n",
       "</style>\n",
       "<table border=\"1\" class=\"dataframe\">\n",
       "  <thead>\n",
       "    <tr style=\"text-align: right;\">\n",
       "      <th></th>\n",
       "      <th>wmc</th>\n",
       "      <th>dit</th>\n",
       "      <th>noc</th>\n",
       "      <th>cbo</th>\n",
       "      <th>rfc</th>\n",
       "      <th>lcom</th>\n",
       "      <th>ca</th>\n",
       "      <th>ce</th>\n",
       "      <th>npm</th>\n",
       "      <th>lcom3</th>\n",
       "      <th>...</th>\n",
       "      <th>dam</th>\n",
       "      <th>moa</th>\n",
       "      <th>mfa</th>\n",
       "      <th>cam</th>\n",
       "      <th>ic</th>\n",
       "      <th>cbm</th>\n",
       "      <th>amc</th>\n",
       "      <th>max_cc</th>\n",
       "      <th>avg_cc</th>\n",
       "      <th>bug</th>\n",
       "    </tr>\n",
       "  </thead>\n",
       "  <tbody>\n",
       "    <tr>\n",
       "      <th>0</th>\n",
       "      <td>6</td>\n",
       "      <td>6</td>\n",
       "      <td>0</td>\n",
       "      <td>0</td>\n",
       "      <td>27</td>\n",
       "      <td>7</td>\n",
       "      <td>0</td>\n",
       "      <td>0</td>\n",
       "      <td>1</td>\n",
       "      <td>0.700000</td>\n",
       "      <td>...</td>\n",
       "      <td>1.000000</td>\n",
       "      <td>0</td>\n",
       "      <td>0.992089</td>\n",
       "      <td>1.000000</td>\n",
       "      <td>0</td>\n",
       "      <td>0</td>\n",
       "      <td>27.500000</td>\n",
       "      <td>2</td>\n",
       "      <td>1.5</td>\n",
       "      <td>0</td>\n",
       "    </tr>\n",
       "    <tr>\n",
       "      <th>1</th>\n",
       "      <td>10</td>\n",
       "      <td>1</td>\n",
       "      <td>0</td>\n",
       "      <td>14</td>\n",
       "      <td>11</td>\n",
       "      <td>3</td>\n",
       "      <td>14</td>\n",
       "      <td>0</td>\n",
       "      <td>10</td>\n",
       "      <td>0.666667</td>\n",
       "      <td>...</td>\n",
       "      <td>1.000000</td>\n",
       "      <td>0</td>\n",
       "      <td>0.000000</td>\n",
       "      <td>0.533333</td>\n",
       "      <td>0</td>\n",
       "      <td>0</td>\n",
       "      <td>5.800000</td>\n",
       "      <td>1</td>\n",
       "      <td>0.8</td>\n",
       "      <td>0</td>\n",
       "    </tr>\n",
       "    <tr>\n",
       "      <th>2</th>\n",
       "      <td>5</td>\n",
       "      <td>1</td>\n",
       "      <td>0</td>\n",
       "      <td>2</td>\n",
       "      <td>19</td>\n",
       "      <td>0</td>\n",
       "      <td>0</td>\n",
       "      <td>2</td>\n",
       "      <td>5</td>\n",
       "      <td>0.000000</td>\n",
       "      <td>...</td>\n",
       "      <td>1.000000</td>\n",
       "      <td>0</td>\n",
       "      <td>0.000000</td>\n",
       "      <td>0.466667</td>\n",
       "      <td>0</td>\n",
       "      <td>0</td>\n",
       "      <td>16.000000</td>\n",
       "      <td>2</td>\n",
       "      <td>1.0</td>\n",
       "      <td>0</td>\n",
       "    </tr>\n",
       "    <tr>\n",
       "      <th>3</th>\n",
       "      <td>2</td>\n",
       "      <td>1</td>\n",
       "      <td>0</td>\n",
       "      <td>3</td>\n",
       "      <td>17</td>\n",
       "      <td>1</td>\n",
       "      <td>0</td>\n",
       "      <td>3</td>\n",
       "      <td>2</td>\n",
       "      <td>2.000000</td>\n",
       "      <td>...</td>\n",
       "      <td>0.000000</td>\n",
       "      <td>0</td>\n",
       "      <td>0.000000</td>\n",
       "      <td>0.500000</td>\n",
       "      <td>0</td>\n",
       "      <td>0</td>\n",
       "      <td>46.500000</td>\n",
       "      <td>2</td>\n",
       "      <td>1.0</td>\n",
       "      <td>0</td>\n",
       "    </tr>\n",
       "    <tr>\n",
       "      <th>4</th>\n",
       "      <td>15</td>\n",
       "      <td>6</td>\n",
       "      <td>0</td>\n",
       "      <td>7</td>\n",
       "      <td>49</td>\n",
       "      <td>73</td>\n",
       "      <td>3</td>\n",
       "      <td>6</td>\n",
       "      <td>1</td>\n",
       "      <td>0.863095</td>\n",
       "      <td>...</td>\n",
       "      <td>0.916667</td>\n",
       "      <td>2</td>\n",
       "      <td>0.978159</td>\n",
       "      <td>0.355556</td>\n",
       "      <td>0</td>\n",
       "      <td>0</td>\n",
       "      <td>26.466667</td>\n",
       "      <td>3</td>\n",
       "      <td>1.6</td>\n",
       "      <td>1</td>\n",
       "    </tr>\n",
       "  </tbody>\n",
       "</table>\n",
       "<p>5 rows × 21 columns</p>\n",
       "</div>"
      ],
      "text/plain": [
       "   wmc  dit  noc  cbo  rfc  lcom  ca  ce  npm     lcom3  ...       dam  moa  \\\n",
       "0    6    6    0    0   27     7   0   0    1  0.700000  ...  1.000000    0   \n",
       "1   10    1    0   14   11     3  14   0   10  0.666667  ...  1.000000    0   \n",
       "2    5    1    0    2   19     0   0   2    5  0.000000  ...  1.000000    0   \n",
       "3    2    1    0    3   17     1   0   3    2  2.000000  ...  0.000000    0   \n",
       "4   15    6    0    7   49    73   3   6    1  0.863095  ...  0.916667    2   \n",
       "\n",
       "        mfa       cam  ic  cbm        amc  max_cc  avg_cc  bug  \n",
       "0  0.992089  1.000000   0    0  27.500000       2     1.5    0  \n",
       "1  0.000000  0.533333   0    0   5.800000       1     0.8    0  \n",
       "2  0.000000  0.466667   0    0  16.000000       2     1.0    0  \n",
       "3  0.000000  0.500000   0    0  46.500000       2     1.0    0  \n",
       "4  0.978159  0.355556   0    0  26.466667       3     1.6    1  \n",
       "\n",
       "[5 rows x 21 columns]"
      ]
     },
     "execution_count": 38,
     "metadata": {},
     "output_type": "execute_result"
    }
   ],
   "source": [
    "x = pd.DataFrame(x)\n",
    "x.head()"
   ]
  },
  {
   "cell_type": "code",
   "execution_count": 39,
   "id": "8d37a848",
   "metadata": {},
   "outputs": [],
   "source": [
    "from sklearn.preprocessing import MinMaxScaler\n",
    "\n",
    "scalar = MinMaxScaler()\n",
    "scalar.fit(x)\n",
    "x = scalar.transform(x)"
   ]
  },
  {
   "cell_type": "code",
   "execution_count": 40,
   "id": "20dca1f2",
   "metadata": {},
   "outputs": [],
   "source": [
    "x = pd.DataFrame(x)"
   ]
  },
  {
   "cell_type": "code",
   "execution_count": 41,
   "id": "77792f3d",
   "metadata": {},
   "outputs": [
    {
     "data": {
      "text/html": [
       "<div>\n",
       "<style scoped>\n",
       "    .dataframe tbody tr th:only-of-type {\n",
       "        vertical-align: middle;\n",
       "    }\n",
       "\n",
       "    .dataframe tbody tr th {\n",
       "        vertical-align: top;\n",
       "    }\n",
       "\n",
       "    .dataframe thead th {\n",
       "        text-align: right;\n",
       "    }\n",
       "</style>\n",
       "<table border=\"1\" class=\"dataframe\">\n",
       "  <thead>\n",
       "    <tr style=\"text-align: right;\">\n",
       "      <th></th>\n",
       "      <th>0</th>\n",
       "      <th>1</th>\n",
       "      <th>2</th>\n",
       "      <th>3</th>\n",
       "      <th>4</th>\n",
       "      <th>5</th>\n",
       "      <th>6</th>\n",
       "      <th>7</th>\n",
       "      <th>8</th>\n",
       "      <th>9</th>\n",
       "      <th>...</th>\n",
       "      <th>11</th>\n",
       "      <th>12</th>\n",
       "      <th>13</th>\n",
       "      <th>14</th>\n",
       "      <th>15</th>\n",
       "      <th>16</th>\n",
       "      <th>17</th>\n",
       "      <th>18</th>\n",
       "      <th>19</th>\n",
       "      <th>20</th>\n",
       "    </tr>\n",
       "  </thead>\n",
       "  <tbody>\n",
       "    <tr>\n",
       "      <th>0</th>\n",
       "      <td>0.108696</td>\n",
       "      <td>1.0</td>\n",
       "      <td>0.0</td>\n",
       "      <td>0.000000</td>\n",
       "      <td>0.268817</td>\n",
       "      <td>0.009901</td>\n",
       "      <td>0.000000</td>\n",
       "      <td>0.000000</td>\n",
       "      <td>0.000000</td>\n",
       "      <td>0.350000</td>\n",
       "      <td>...</td>\n",
       "      <td>1.000000</td>\n",
       "      <td>0.0</td>\n",
       "      <td>0.992089</td>\n",
       "      <td>1.000000</td>\n",
       "      <td>0.0</td>\n",
       "      <td>0.0</td>\n",
       "      <td>0.300979</td>\n",
       "      <td>0.133333</td>\n",
       "      <td>0.381359</td>\n",
       "      <td>0.00</td>\n",
       "    </tr>\n",
       "    <tr>\n",
       "      <th>1</th>\n",
       "      <td>0.195652</td>\n",
       "      <td>0.0</td>\n",
       "      <td>0.0</td>\n",
       "      <td>0.333333</td>\n",
       "      <td>0.096774</td>\n",
       "      <td>0.004243</td>\n",
       "      <td>0.358974</td>\n",
       "      <td>0.000000</td>\n",
       "      <td>0.409091</td>\n",
       "      <td>0.333333</td>\n",
       "      <td>...</td>\n",
       "      <td>1.000000</td>\n",
       "      <td>0.0</td>\n",
       "      <td>0.000000</td>\n",
       "      <td>0.429348</td>\n",
       "      <td>0.0</td>\n",
       "      <td>0.0</td>\n",
       "      <td>0.063479</td>\n",
       "      <td>0.066667</td>\n",
       "      <td>0.203392</td>\n",
       "      <td>0.00</td>\n",
       "    </tr>\n",
       "    <tr>\n",
       "      <th>2</th>\n",
       "      <td>0.086957</td>\n",
       "      <td>0.0</td>\n",
       "      <td>0.0</td>\n",
       "      <td>0.047619</td>\n",
       "      <td>0.182796</td>\n",
       "      <td>0.000000</td>\n",
       "      <td>0.000000</td>\n",
       "      <td>0.222222</td>\n",
       "      <td>0.181818</td>\n",
       "      <td>0.000000</td>\n",
       "      <td>...</td>\n",
       "      <td>1.000000</td>\n",
       "      <td>0.0</td>\n",
       "      <td>0.000000</td>\n",
       "      <td>0.347826</td>\n",
       "      <td>0.0</td>\n",
       "      <td>0.0</td>\n",
       "      <td>0.175115</td>\n",
       "      <td>0.133333</td>\n",
       "      <td>0.254239</td>\n",
       "      <td>0.00</td>\n",
       "    </tr>\n",
       "    <tr>\n",
       "      <th>3</th>\n",
       "      <td>0.021739</td>\n",
       "      <td>0.0</td>\n",
       "      <td>0.0</td>\n",
       "      <td>0.071429</td>\n",
       "      <td>0.161290</td>\n",
       "      <td>0.001414</td>\n",
       "      <td>0.000000</td>\n",
       "      <td>0.333333</td>\n",
       "      <td>0.045455</td>\n",
       "      <td>1.000000</td>\n",
       "      <td>...</td>\n",
       "      <td>0.000000</td>\n",
       "      <td>0.0</td>\n",
       "      <td>0.000000</td>\n",
       "      <td>0.388587</td>\n",
       "      <td>0.0</td>\n",
       "      <td>0.0</td>\n",
       "      <td>0.508929</td>\n",
       "      <td>0.133333</td>\n",
       "      <td>0.254239</td>\n",
       "      <td>0.00</td>\n",
       "    </tr>\n",
       "    <tr>\n",
       "      <th>4</th>\n",
       "      <td>0.304348</td>\n",
       "      <td>1.0</td>\n",
       "      <td>0.0</td>\n",
       "      <td>0.166667</td>\n",
       "      <td>0.505376</td>\n",
       "      <td>0.103253</td>\n",
       "      <td>0.076923</td>\n",
       "      <td>0.666667</td>\n",
       "      <td>0.000000</td>\n",
       "      <td>0.431548</td>\n",
       "      <td>...</td>\n",
       "      <td>0.916667</td>\n",
       "      <td>0.5</td>\n",
       "      <td>0.978159</td>\n",
       "      <td>0.211957</td>\n",
       "      <td>0.0</td>\n",
       "      <td>0.0</td>\n",
       "      <td>0.289670</td>\n",
       "      <td>0.200000</td>\n",
       "      <td>0.406783</td>\n",
       "      <td>0.25</td>\n",
       "    </tr>\n",
       "  </tbody>\n",
       "</table>\n",
       "<p>5 rows × 21 columns</p>\n",
       "</div>"
      ],
      "text/plain": [
       "         0    1    2         3         4         5         6         7   \\\n",
       "0  0.108696  1.0  0.0  0.000000  0.268817  0.009901  0.000000  0.000000   \n",
       "1  0.195652  0.0  0.0  0.333333  0.096774  0.004243  0.358974  0.000000   \n",
       "2  0.086957  0.0  0.0  0.047619  0.182796  0.000000  0.000000  0.222222   \n",
       "3  0.021739  0.0  0.0  0.071429  0.161290  0.001414  0.000000  0.333333   \n",
       "4  0.304348  1.0  0.0  0.166667  0.505376  0.103253  0.076923  0.666667   \n",
       "\n",
       "         8         9   ...        11   12        13        14   15   16  \\\n",
       "0  0.000000  0.350000  ...  1.000000  0.0  0.992089  1.000000  0.0  0.0   \n",
       "1  0.409091  0.333333  ...  1.000000  0.0  0.000000  0.429348  0.0  0.0   \n",
       "2  0.181818  0.000000  ...  1.000000  0.0  0.000000  0.347826  0.0  0.0   \n",
       "3  0.045455  1.000000  ...  0.000000  0.0  0.000000  0.388587  0.0  0.0   \n",
       "4  0.000000  0.431548  ...  0.916667  0.5  0.978159  0.211957  0.0  0.0   \n",
       "\n",
       "         17        18        19    20  \n",
       "0  0.300979  0.133333  0.381359  0.00  \n",
       "1  0.063479  0.066667  0.203392  0.00  \n",
       "2  0.175115  0.133333  0.254239  0.00  \n",
       "3  0.508929  0.133333  0.254239  0.00  \n",
       "4  0.289670  0.200000  0.406783  0.25  \n",
       "\n",
       "[5 rows x 21 columns]"
      ]
     },
     "execution_count": 41,
     "metadata": {},
     "output_type": "execute_result"
    }
   ],
   "source": [
    "x.head()"
   ]
  },
  {
   "cell_type": "code",
   "execution_count": 42,
   "id": "8447755e",
   "metadata": {},
   "outputs": [],
   "source": [
    "from sklearn.cluster import KMeans"
   ]
  },
  {
   "cell_type": "code",
   "execution_count": 11,
   "id": "35a9f319",
   "metadata": {},
   "outputs": [],
   "source": [
    "kmeans_model = KMeans(n_clusters = 2)\n",
    "kmeans_model.fit(x)\n",
    "\n",
    "kmeans_prediction = kmeans_model.predict(x)"
   ]
  },
  {
   "cell_type": "code",
   "execution_count": 12,
   "id": "16e23a6e",
   "metadata": {},
   "outputs": [
    {
     "data": {
      "text/plain": [
       "array([1, 0, 0, 0, 1, 0, 1, 0, 1, 1, 0, 1, 0, 0, 0, 0, 0, 1, 0, 0, 0, 1,\n",
       "       0, 1, 1, 0, 0, 1, 0], dtype=int32)"
      ]
     },
     "execution_count": 12,
     "metadata": {},
     "output_type": "execute_result"
    }
   ],
   "source": [
    "kmeans_prediction"
   ]
  },
  {
   "cell_type": "code",
   "execution_count": 13,
   "id": "0abf2e98",
   "metadata": {},
   "outputs": [],
   "source": [
    "from sklearn.cluster import AffinityPropagation\n",
    "\n",
    "af_model = AffinityPropagation(random_state = None)\n",
    "\n",
    "af_model.fit(x)\n",
    "af_prediction = af_model.labels_"
   ]
  },
  {
   "cell_type": "code",
   "execution_count": 14,
   "id": "5d367819",
   "metadata": {},
   "outputs": [
    {
     "data": {
      "text/plain": [
       "array([0, 3, 3, 1, 2, 3, 2, 3, 2, 0, 3, 0, 1, 3, 1, 3, 3, 2, 3, 3, 1, 2,\n",
       "       0, 2, 2, 3, 1, 2, 3])"
      ]
     },
     "execution_count": 14,
     "metadata": {},
     "output_type": "execute_result"
    }
   ],
   "source": [
    "af_prediction"
   ]
  },
  {
   "cell_type": "code",
   "execution_count": 15,
   "id": "d740fd08",
   "metadata": {},
   "outputs": [],
   "source": [
    "from sklearn.cluster import AgglomerativeClustering\n",
    "\n",
    "ag_model = AgglomerativeClustering(n_clusters = 2)\n",
    "\n",
    "ag_model.fit(x)\n",
    "ag_prediction = ag_model.labels_"
   ]
  },
  {
   "cell_type": "code",
   "execution_count": 16,
   "id": "fe195d83",
   "metadata": {},
   "outputs": [
    {
     "data": {
      "text/plain": [
       "array([0, 1, 1, 1, 0, 1, 0, 1, 0, 0, 1, 0, 1, 1, 1, 1, 1, 0, 1, 1, 1, 0,\n",
       "       0, 0, 0, 1, 1, 0, 1])"
      ]
     },
     "execution_count": 16,
     "metadata": {},
     "output_type": "execute_result"
    }
   ],
   "source": [
    "ag_prediction"
   ]
  },
  {
   "cell_type": "code",
   "execution_count": 17,
   "id": "6c3078ea",
   "metadata": {},
   "outputs": [],
   "source": [
    "from sklearn.cluster import Birch\n",
    "\n",
    "birch_model = Birch(threshold=0.01, n_clusters=2)\n",
    "\n",
    "birch_model.fit(x)\n",
    "birch_prediction = birch_model.labels_"
   ]
  },
  {
   "cell_type": "code",
   "execution_count": 18,
   "id": "77d8e88c",
   "metadata": {},
   "outputs": [
    {
     "data": {
      "text/plain": [
       "array([0, 1, 1, 1, 0, 1, 0, 1, 0, 0, 1, 0, 1, 1, 1, 1, 1, 0, 1, 1, 1, 0,\n",
       "       0, 0, 0, 1, 1, 0, 1])"
      ]
     },
     "execution_count": 18,
     "metadata": {},
     "output_type": "execute_result"
    }
   ],
   "source": [
    "birch_prediction"
   ]
  },
  {
   "cell_type": "code",
   "execution_count": 19,
   "id": "6ae53240",
   "metadata": {},
   "outputs": [],
   "source": [
    "from sklearn.cluster import DBSCAN\n",
    "\n",
    "dbscan_model = DBSCAN()\n",
    "\n",
    "dbscan_model.fit(x)\n",
    "dbscan_prediction = dbscan_model.labels_"
   ]
  },
  {
   "cell_type": "code",
   "execution_count": 20,
   "id": "94d06f43",
   "metadata": {},
   "outputs": [
    {
     "data": {
      "text/plain": [
       "array([-1,  0,  0, -1, -1, -1, -1, -1, -1, -1,  0, -1, -1,  0, -1, -1, -1,\n",
       "       -1,  0,  0, -1, -1, -1, -1, -1, -1, -1, -1,  0])"
      ]
     },
     "execution_count": 20,
     "metadata": {},
     "output_type": "execute_result"
    }
   ],
   "source": [
    "dbscan_prediction"
   ]
  },
  {
   "cell_type": "code",
   "execution_count": 21,
   "id": "3f28070b",
   "metadata": {},
   "outputs": [],
   "source": [
    "from sklearn.cluster import MiniBatchKMeans\n",
    "\n",
    "miniBatchKmeans_model = MiniBatchKMeans(n_clusters = 2)\n",
    "\n",
    "miniBatchKmeans_model.fit(x)\n",
    "miniBatchKmeans_prediction = miniBatchKmeans_model.labels_"
   ]
  },
  {
   "cell_type": "code",
   "execution_count": 22,
   "id": "7ab96bf0",
   "metadata": {},
   "outputs": [
    {
     "data": {
      "text/plain": [
       "array([0, 1, 1, 1, 0, 1, 0, 1, 0, 0, 1, 0, 1, 1, 1, 1, 1, 0, 1, 1, 1, 0,\n",
       "       1, 0, 0, 1, 1, 0, 1], dtype=int32)"
      ]
     },
     "execution_count": 22,
     "metadata": {},
     "output_type": "execute_result"
    }
   ],
   "source": [
    "miniBatchKmeans_prediction"
   ]
  },
  {
   "cell_type": "code",
   "execution_count": 23,
   "id": "e382d026",
   "metadata": {},
   "outputs": [],
   "source": [
    "from sklearn.cluster import MeanShift\n",
    "\n",
    "meanShift_model = MeanShift()\n",
    "\n",
    "meanShift_model.fit(x)\n",
    "meanShift_prediction = meanShift_model.labels_"
   ]
  },
  {
   "cell_type": "code",
   "execution_count": 24,
   "id": "5e467dc7",
   "metadata": {},
   "outputs": [
    {
     "data": {
      "text/plain": [
       "array([0, 0, 0, 0, 1, 2, 1, 0, 1, 1, 0, 1, 0, 0, 0, 3, 0, 1, 0, 0, 0, 1,\n",
       "       0, 1, 1, 0, 0, 1, 0])"
      ]
     },
     "execution_count": 24,
     "metadata": {},
     "output_type": "execute_result"
    }
   ],
   "source": [
    "meanShift_prediction"
   ]
  },
  {
   "cell_type": "code",
   "execution_count": 25,
   "id": "013e3b13",
   "metadata": {},
   "outputs": [],
   "source": [
    "from sklearn.cluster import OPTICS\n",
    "\n",
    "optics_model = OPTICS()\n",
    "\n",
    "optics_model.fit(x)\n",
    "optics_prediction = optics_model.labels_"
   ]
  },
  {
   "cell_type": "code",
   "execution_count": 26,
   "id": "639dcbc0",
   "metadata": {},
   "outputs": [
    {
     "data": {
      "text/plain": [
       "array([ 0,  1,  1, -1,  0, -1,  0,  1,  0,  0,  1,  0, -1,  1, -1, -1, -1,\n",
       "        0,  1,  1, -1,  0,  0,  0,  0, -1, -1,  0,  1])"
      ]
     },
     "execution_count": 26,
     "metadata": {},
     "output_type": "execute_result"
    }
   ],
   "source": [
    "optics_prediction"
   ]
  },
  {
   "cell_type": "code",
   "execution_count": 27,
   "id": "ede0a96b",
   "metadata": {},
   "outputs": [],
   "source": [
    "from sklearn.cluster import SpectralClustering\n",
    "\n",
    "SC_model = SpectralClustering(n_clusters = 2)\n",
    "\n",
    "SC_model.fit(x)\n",
    "SC_prediction = SC_model.labels_"
   ]
  },
  {
   "cell_type": "code",
   "execution_count": 28,
   "id": "e97f9ad1",
   "metadata": {},
   "outputs": [
    {
     "data": {
      "text/plain": [
       "array([1, 0, 0, 0, 1, 0, 1, 0, 1, 1, 0, 1, 0, 0, 0, 0, 0, 1, 0, 0, 0, 1,\n",
       "       0, 1, 1, 0, 0, 1, 0], dtype=int32)"
      ]
     },
     "execution_count": 28,
     "metadata": {},
     "output_type": "execute_result"
    }
   ],
   "source": [
    "SC_prediction"
   ]
  },
  {
   "cell_type": "code",
   "execution_count": 31,
   "id": "f80ab828",
   "metadata": {},
   "outputs": [],
   "source": [
    "from sklearn.mixture import GaussianMixture\n",
    "\n",
    "gm_model = GaussianMixture(n_components = 2)\n",
    "\n",
    "gm_model.fit(x)\n",
    "gm_prediction = gm_model.predict(x)"
   ]
  },
  {
   "cell_type": "code",
   "execution_count": 32,
   "id": "7bdf5285",
   "metadata": {},
   "outputs": [
    {
     "data": {
      "text/plain": [
       "array([0, 1, 1, 1, 0, 1, 0, 1, 0, 0, 1, 0, 1, 1, 1, 1, 1, 0, 1, 1, 1, 0,\n",
       "       1, 0, 0, 1, 1, 0, 1])"
      ]
     },
     "execution_count": 32,
     "metadata": {},
     "output_type": "execute_result"
    }
   ],
   "source": [
    "gm_prediction"
   ]
  },
  {
   "cell_type": "code",
   "execution_count": null,
   "id": "71dbefa9",
   "metadata": {},
   "outputs": [],
   "source": [
    "#Visualising results of Gaussian Mixture algorithm\n",
    "\n",
    "from numpy import unique"
   ]
  }
 ],
 "metadata": {
  "kernelspec": {
   "display_name": "Python 3 (ipykernel)",
   "language": "python",
   "name": "python3"
  },
  "language_info": {
   "codemirror_mode": {
    "name": "ipython",
    "version": 3
   },
   "file_extension": ".py",
   "mimetype": "text/x-python",
   "name": "python",
   "nbconvert_exporter": "python",
   "pygments_lexer": "ipython3",
   "version": "3.8.10"
  }
 },
 "nbformat": 4,
 "nbformat_minor": 5
}
